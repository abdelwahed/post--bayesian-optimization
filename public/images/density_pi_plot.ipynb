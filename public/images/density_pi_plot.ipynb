{
  "nbformat": 4,
  "nbformat_minor": 0,
  "metadata": {
    "kernelspec": {
      "display_name": "Python 3",
      "language": "python",
      "name": "python3"
    },
    "language_info": {
      "codemirror_mode": {
        "name": "ipython",
        "version": 3
      },
      "file_extension": ".py",
      "mimetype": "text/x-python",
      "name": "python",
      "nbconvert_exporter": "python",
      "pygments_lexer": "ipython3",
      "version": "3.6.9"
    },
    "colab": {
      "name": "density-pi-plot.ipynb",
      "provenance": [],
      "collapsed_sections": []
    }
  },
  "cells": [
    {
      "cell_type": "code",
      "metadata": {
        "id": "oPvBMrKBNA2e",
        "colab_type": "code",
        "colab": {
          "base_uri": "https://localhost:8080/",
          "height": 118
        },
        "outputId": "bde5522c-89d6-4862-f9d2-7d1e276e746f"
      },
      "source": [
        "!pip install GPy\n",
        "!sudo apt-get install msttcorefonts -qq"
      ],
      "execution_count": 39,
      "outputs": [
        {
          "output_type": "stream",
          "text": [
            "Requirement already satisfied: GPy in /usr/local/lib/python3.6/dist-packages (1.9.9)\n",
            "Requirement already satisfied: six in /usr/local/lib/python3.6/dist-packages (from GPy) (1.12.0)\n",
            "Requirement already satisfied: numpy>=1.7 in /usr/local/lib/python3.6/dist-packages (from GPy) (1.18.2)\n",
            "Requirement already satisfied: scipy>=0.16 in /usr/local/lib/python3.6/dist-packages (from GPy) (1.4.1)\n",
            "Requirement already satisfied: paramz>=0.9.0 in /usr/local/lib/python3.6/dist-packages (from GPy) (0.9.5)\n",
            "Requirement already satisfied: decorator>=4.0.10 in /usr/local/lib/python3.6/dist-packages (from paramz>=0.9.0->GPy) (4.4.2)\n"
          ],
          "name": "stdout"
        }
      ]
    },
    {
      "cell_type": "code",
      "metadata": {
        "id": "eRwE4DSNMjZH",
        "colab_type": "code",
        "colab": {}
      },
      "source": [
        "import os\n",
        "import json\n",
        "import warnings\n",
        "import itertools\n",
        "\n",
        "import numpy as np\n",
        "import pandas as pd\n",
        "import matplotlib.pyplot as plt\n",
        "\n",
        "# from sklearn.gaussian_process.kernels import Matern\n",
        "from GPy.mappings.constant import Constant\n",
        "from GPy.kern import Matern52\n",
        "from GPy.models import GPRegression\n",
        "import GPy\n",
        "\n",
        "from scipy.special import ndtr\n",
        "from scipy.stats import norm\n",
        "\n",
        "warnings.filterwarnings('ignore')\n",
        "# plt.style.use('classic')\n",
        "plt.style.use('seaborn-paper')\n",
        "%matplotlib inline"
      ],
      "execution_count": 0,
      "outputs": []
    },
    {
      "cell_type": "code",
      "metadata": {
        "id": "2j_VAAQcMjZW",
        "colab_type": "code",
        "colab": {}
      },
      "source": [
        "# plotting styles\n",
        "\n",
        "def nnsvm(rcParams, i=0):\n",
        "    rcParams['font.family'] = 'serif'\n",
        "    rcParams['font.serif'] = 'Ubuntu'\n",
        "    rcParams['font.monospace'] = 'Ubuntu Mono'\n",
        "    rcParams['font.size'] = 12 + i\n",
        "    rcParams['axes.labelsize'] = 12 + i\n",
        "    rcParams['axes.labelweight'] = 'normal'\n",
        "    rcParams['xtick.labelsize'] = 10 + i\n",
        "    rcParams['ytick.labelsize'] = 10 + i\n",
        "    rcParams['legend.fontsize'] = 12 + i\n",
        "    rcParams['figure.titlesize'] = 14 + i\n",
        "    rcParams['lines.linewidth']= 2.7\n",
        "    rcParams['axes.titlesize'] = 14 + i\n",
        "alpha_plt = 0.4 # beautification\n",
        "    \n",
        "# gifs stuff\n",
        "gifDir = 'MAB_gifs'\n",
        "os.makedirs(gifDir, exist_ok=True)\n",
        "delay = 80"
      ],
      "execution_count": 0,
      "outputs": []
    },
    {
      "cell_type": "code",
      "metadata": {
        "id": "Y3suPJAKMjZg",
        "colab_type": "code",
        "colab": {}
      },
      "source": [
        "SPINE_COLOR = 'gray'\n",
        "\n",
        "def format_axes(ax):\n",
        "    \n",
        "    for spine in ['top', 'right']:\n",
        "        ax.spines[spine].set_visible(False)\n",
        "\n",
        "    for spine in ['left', 'bottom']:\n",
        "        ax.spines[spine].set_color(SPINE_COLOR)\n",
        "        ax.spines[spine].set_linewidth(0.5)\n",
        "\n",
        "    ax.xaxis.set_ticks_position('bottom')\n",
        "    ax.yaxis.set_ticks_position('left')\n",
        "\n",
        "    for axis in [ax.xaxis, ax.yaxis]:\n",
        "        axis.set_tick_params(direction='out', color=SPINE_COLOR)\n",
        "        \n",
        "    # ax.grid(alpha=0.2)\n",
        "\n",
        "    return ax"
      ],
      "execution_count": 0,
      "outputs": []
    },
    {
      "cell_type": "code",
      "metadata": {
        "id": "qMHJIRoxMjZv",
        "colab_type": "code",
        "colab": {}
      },
      "source": [
        "def gp_creator(x, y, val = 5):\n",
        "    y.resize(x.shape[0], 1)\n",
        "    ker = Matern52(x.shape[1], ARD=True, variance=1)\n",
        "#     print (x, x.mean())\n",
        "    mean_fn = Constant(x.shape[1], 1, value=val)\n",
        "    gp = GPRegression(x, y, kernel=ker, noise_var=0,\n",
        "                      mean_function = mean_fn)\n",
        "    gp.optimize()\n",
        "    return gp"
      ],
      "execution_count": 0,
      "outputs": []
    },
    {
      "cell_type": "code",
      "metadata": {
        "id": "8rWfGmQ6MjZ6",
        "colab_type": "code",
        "colab": {}
      },
      "source": [
        "def f(x):\n",
        "    \"\"\"The function to predict.\"\"\"\n",
        "    return 2*((x-3)*np.sin((x-3))) + 2 + 0.5*x\n",
        "\n",
        "nnsvm(plt.rcParams, -2)\n",
        "x = np.atleast_2d(np.linspace(0, 6, 25000)).T\n",
        "y_pred, sigma = 5*np.ones(x.shape).flatten(), 1.1*np.ones(x.shape).flatten()\n",
        "\n",
        "train_X = np.array([[.3],[2.2], [3.7]])\n",
        "train_y = f(train_X)"
      ],
      "execution_count": 0,
      "outputs": []
    },
    {
      "cell_type": "code",
      "metadata": {
        "id": "HZjBiUUQMjaB",
        "colab_type": "code",
        "colab": {}
      },
      "source": [
        "def plot_gray(n, ax):\n",
        "    y1 = mu-n*std\n",
        "    y2 = mu+n*std\n",
        "    y_temp = y_max_eps*np.ones_like(y1)\n",
        "    ax.fill_between(\n",
        "        x,y2,y1,where=y1>=y_temp,\n",
        "        color='violet',alpha=alphas[n],\n",
        "        interpolate=False, label=labels[n], linewidth=0\n",
        "    )\n",
        "    ax.fill_between(\n",
        "        x,y2,y_temp,where=y2>=y_temp,\n",
        "        color='violet',alpha=alphas[n],\n",
        "        interpolate=False, linewidth=0\n",
        "    )\n",
        "    ax.fill_between(\n",
        "        x,y2,y1,where=y2<=y_temp,\n",
        "        color='grey',alpha=alphas[n],\n",
        "        interpolate=False, linewidth=0\n",
        "    )\n",
        "    ax.fill_between(\n",
        "        x,y1,y_temp, where=y2>=y_temp,\n",
        "        color='grey',alpha=alphas[n],\n",
        "        interpolate=False, linewidth=0\n",
        "    )"
      ],
      "execution_count": 0,
      "outputs": []
    },
    {
      "cell_type": "code",
      "metadata": {
        "id": "i3Qu3VSzMjaG",
        "colab_type": "code",
        "colab": {}
      },
      "source": [
        "nnsvm(plt.rcParams, 3)"
      ],
      "execution_count": 0,
      "outputs": []
    },
    {
      "cell_type": "code",
      "metadata": {
        "id": "U1rYmrHPMjaL",
        "colab_type": "code",
        "colab": {}
      },
      "source": [
        "class ACQ:\n",
        "    def acq_fn(self, *args, **kwargs):\n",
        "        raise NotImplemented\n",
        "    def __str__(self):\n",
        "        return self.__class__.__name__\n",
        "    def __call__(self, *args, **kwargs):\n",
        "        return self.acq_fn(*args, **kwargs)"
      ],
      "execution_count": 0,
      "outputs": []
    },
    {
      "cell_type": "code",
      "metadata": {
        "id": "cH4sMtf_MjaR",
        "colab_type": "code",
        "colab": {}
      },
      "source": [
        "# Code is heavily borrowed from: https://modal-python.readthedocs.io/\n",
        "# en/latest/_modules/modAL/acquisition.html#max_PI\n",
        "class PI(ACQ):\n",
        "    def acq_fn(\n",
        "        self, gp, x, mu=5., eps=0.01, **kwargs):\n",
        "        \"\"\"\n",
        "        gp: sklearn.GPRegresssor\n",
        "        \"\"\"\n",
        "        y_pred, var = [t.flatten() for t in gp.predict(x)]\n",
        "        sigma = np.sqrt(var).squeeze()\n",
        "        \n",
        "        cdf = ndtr((y_pred - mu - eps)/sigma)\n",
        "        return cdf"
      ],
      "execution_count": 0,
      "outputs": []
    },
    {
      "cell_type": "code",
      "metadata": {
        "id": "DrifRSt6MjaX",
        "colab_type": "code",
        "colab": {}
      },
      "source": [
        "gp = gp_creator(train_X, train_y)\n",
        "mu, var = gp.predict(x)\n",
        "mu = mu.squeeze()\n",
        "std = np.sqrt(var).squeeze()\n",
        "# x = x.flatten()\n",
        "# gp.plot(plot_density=True)"
      ],
      "execution_count": 0,
      "outputs": []
    },
    {
      "cell_type": "code",
      "metadata": {
        "id": "hm_wr0gYMjaa",
        "colab_type": "code",
        "colab": {}
      },
      "source": [
        "p = PI()\n",
        "acq = p.acq_fn(gp, x, train_y.max().item(), eps=0.075)\n",
        "x = x.flatten()"
      ],
      "execution_count": 0,
      "outputs": []
    },
    {
      "cell_type": "code",
      "metadata": {
        "id": "FB3LxyYyQIof",
        "colab_type": "code",
        "colab": {}
      },
      "source": [
        ""
      ],
      "execution_count": 0,
      "outputs": []
    },
    {
      "cell_type": "code",
      "metadata": {
        "id": "qY8w6ixkfKOj",
        "colab_type": "code",
        "colab": {
          "base_uri": "https://localhost:8080/",
          "height": 34
        },
        "outputId": "46395c11-6c24-413d-db62-a4d5251eedae"
      },
      "source": [
        "[x[ix]], [acq.max()]"
      ],
      "execution_count": 98,
      "outputs": [
        {
          "output_type": "execute_result",
          "data": {
            "text/plain": [
              "([6.0], [0.5653147483302029])"
            ]
          },
          "metadata": {
            "tags": []
          },
          "execution_count": 98
        }
      ]
    },
    {
      "cell_type": "code",
      "metadata": {
        "id": "m9TEM3tVMjae",
        "colab_type": "code",
        "colab": {
          "base_uri": "https://localhost:8080/",
          "height": 616
        },
        "outputId": "aca69ae2-eb82-4296-eb32-1a8e113f037a"
      },
      "source": [
        "y_max_eps = mu.max()\n",
        "fig = plt.figure(figsize=(16, 10))\n",
        "# fig, ax = plt.subplots(nrows=2, figsize=(16, 6))\n",
        "ax = []\n",
        "ax.append(plt.subplot2grid((5, 1), (0, 0), rowspan=2))\n",
        "ax.append(plt.subplot2grid((5, 1), (2, 0), rowspan=3))\n",
        "\n",
        "# plt.figure(figsize=(14, 8))\n",
        "\n",
        "ax[0].plot(x, acq, color=\"fuchsia\")\n",
        "ax[0].scatter([x[ix]], [acq.max()], marker='*', zorder = 10,\n",
        "              c=\"navy\", s=150, label=r\"Largest $\\alpha_{PI}$\")\n",
        "ax[1].plot(x, mu, color='k', lw=3)\n",
        "\n",
        "alphas = {1:0.4, 2:0.2, 3:0.1, 4:0.05}\n",
        "labels = {x:r'$\\mu \\pm %s\\sigma$' %x for x in [1, 2, 3, 4]}\n",
        "\n",
        "ax[1].axhline(y_max_eps, color='orange', lw=2.5, label=r'$f(x^+) + \\epsilon$')\n",
        "ix = np.argmax(acq)\n",
        "ax[1].axvline(x[ix], linestyle=\"-.\", lw=2)\n",
        "ax[0].axvline(x[ix], linestyle=\"-.\", lw=2, label = \"Next Query Point\")\n",
        "\n",
        "\n",
        "plot_gray(1, ax[1])\n",
        "plot_gray(2, ax[1])\n",
        "plot_gray(3, ax[1])\n",
        "plot_gray(4, ax[1])\n",
        "\n",
        "ax[1].legend()\n",
        "ax[0].legend()\n",
        "ax[1].set_xlabel(\"X\")\n",
        "ax[1].set_ylabel(\"Gold Content\")\n",
        "ax[0].set_ylabel(r\"Acquisition function ($\\alpha_{PI}(x)$)\")\n",
        "ax[1].set_xlim((x.min(), x.max()+.5))\n",
        "ax[0].set_xlim((x.min(), x.max()+.5))\n",
        "ax[0].set_xticks([])\n",
        "format_axes(ax[0])\n",
        "format_axes(ax[1])\n",
        "plt.savefig(\"MAB_gifs/density_pi.png\", bbox_inches=\"tight\", dpi=180)"
      ],
      "execution_count": 109,
      "outputs": [
        {
          "output_type": "display_data",
          "data": {
            "image/png": "[encoded data removed]",
            "text/plain": [
              "<Figure size 1152x720 with 2 Axes>"
            ]
          },
          "metadata": {
            "tags": [],
            "needs_background": "light"
          }
        }
      ]
    },
    {
      "cell_type": "code",
      "metadata": {
        "id": "dGUmprGfMjal",
        "colab_type": "code",
        "colab": {}
      },
      "source": [
        ""
      ],
      "execution_count": 0,
      "outputs": []
    },
    {
      "cell_type": "code",
      "metadata": {
        "id": "FAPq7Np7Mjao",
        "colab_type": "code",
        "colab": {}
      },
      "source": [
        ""
      ],
      "execution_count": 0,
      "outputs": []
    },
    {
      "cell_type": "code",
      "metadata": {
        "id": "Vbhvg8quMjaq",
        "colab_type": "code",
        "colab": {}
      },
      "source": [
        ""
      ],
      "execution_count": 0,
      "outputs": []
    }
  ]
}