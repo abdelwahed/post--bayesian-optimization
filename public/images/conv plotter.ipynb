{
 "cells": [
  {
   "cell_type": "markdown",
   "metadata": {},
   "source": [
    "# Exploring Bayesian Optimization\n",
    "\n",
    "In this post, we are going to focus on two tasks, active learning - where we query the user/oracle to label samples; and the multi-arm bandit - where we again query the user/Oracle which returns us a scalar reward. We will be trying to pose the problems first and then talk about some of the ways to solve these problems.\n",
    "\n",
    "The primary motivation behind active learning is the expensive cost of labeling in machine learning tasks.\n",
    "\n",
    "## Mining Gold!\n",
    "\n",
    "Let us explain the two problems using the gold mining application.\n",
    "We will, for now, look at only one-dimensional locations, i.e., we are talking gold distribution only about a line.\n",
    "The issue we have is that at the start of the activity, we have no idea about the amount of gold at different locations.\n",
    "The only way we can get the information about the amount of gold is by drilling at a location.\n",
    "This drilling is costly and involves expensive sensors to be used.\n",
    "We, therefore, want to minimize the number of drillings that we require.\n",
    "\n",
    "We below show two of the common objectives for the gold mining problem.\n",
    "\n",
    "- **Problem 1: Best Estimate of Gold Distribution**\n",
    "  In this problem, we are supposed to estimate the amount of gold on the one-dimensional line. But we can not drill at every location. We should drill at those locations that provide us the \"maximum\" information about the distribution of the gold.\n",
    "  \n",
    "- **Problem 2: Location of Maximum Gold**\n",
    "  In this problem, we are supposed to find the location in the one-dimensional space where the gold quantity is the maximum. This problem focuses on finding the location with the most gold content.\n",
    "\n",
    "\n",
    "![](MAB_gifs/active-gp.gif)\n",
    "\n",
    "---\n",
    "\n",
    "![](MAB_gifs/mab-gp-pi-eps0.5.gif)\n",
    "\n",
    "- Here are representative animations showing the process of drilling at new locations and to reduce the uncertainty and get the best predictions showcasing the Active Learning problem.\n",
    "\n",
    "- And drilling at locations to get the location of the maximum gold reserve, showcasing the Multi Armed Bandit problem\n",
    "\n",
    "We will build the solution to both of these problems from the ground up.\n",
    "\n",
    "#### Some imports"
   ]
  },
  {
   "cell_type": "code",
   "execution_count": 1,
   "metadata": {},
   "outputs": [],
   "source": [
    "import os\n",
    "import json\n",
    "import warnings\n",
    "import itertools\n",
    "\n",
    "import numpy as np\n",
    "import pandas as pd\n",
    "import matplotlib.pyplot as plt\n",
    "\n",
    "# from sklearn.gaussian_process.kernels import Matern\n",
    "from GPy.mappings.constant import Constant\n",
    "from GPy.kern import Matern52\n",
    "from GPy.models import GPRegression\n",
    "\n",
    "from scipy.special import ndtr\n",
    "from scipy.stats import norm\n",
    "\n",
    "warnings.filterwarnings('ignore')\n",
    "# plt.style.use('classic')\n",
    "plt.style.use('seaborn-paper')\n",
    "%matplotlib inline"
   ]
  },
  {
   "cell_type": "code",
   "execution_count": 2,
   "metadata": {
    "scrolled": true
   },
   "outputs": [],
   "source": [
    "# plotting styles\n",
    "\n",
    "def nnsvm(rcParams, i=4):\n",
    "    rcParams['font.family'] = 'serif'\n",
    "    rcParams['font.serif'] = 'Ubuntu'\n",
    "    rcParams['font.monospace'] = 'Ubuntu Mono'\n",
    "    rcParams['font.size'] = 12 + i\n",
    "    rcParams['axes.labelsize'] = 12 + i\n",
    "    rcParams['axes.labelweight'] = 'normal'\n",
    "    rcParams['xtick.labelsize'] = 10 + i\n",
    "    rcParams['ytick.labelsize'] = 10 + i\n",
    "    rcParams['legend.fontsize'] = 12 + i\n",
    "    rcParams['figure.titlesize'] = 14 + i\n",
    "    rcParams['lines.linewidth']= 2.7\n",
    "    rcParams['axes.titlesize'] = 14 + i\n",
    "alpha_plt = 0.4 # beautification\n",
    "    \n",
    "# gifs stuff\n",
    "gifDir = 'MAB_gifs'\n",
    "os.makedirs(gifDir, exist_ok=True)\n",
    "delay = 80"
   ]
  },
  {
   "cell_type": "markdown",
   "metadata": {},
   "source": [
    "#### Prettyfing Matplotlib plots"
   ]
  },
  {
   "cell_type": "code",
   "execution_count": 3,
   "metadata": {},
   "outputs": [
    {
     "data": {
      "image/png": "[encoded data removed]",
      "text/plain": [
       "<Figure size 432x288 with 1 Axes>"
      ]
     },
     "metadata": {
      "needs_background": "light"
     },
     "output_type": "display_data"
    }
   ],
   "source": [
    "plt.gca().grid()"
   ]
  },
  {
   "cell_type": "code",
   "execution_count": 4,
   "metadata": {},
   "outputs": [],
   "source": [
    "SPINE_COLOR = 'gray'\n",
    "\n",
    "def format_axes(ax):\n",
    "    \n",
    "    for spine in ['top', 'right']:\n",
    "        ax.spines[spine].set_visible(False)\n",
    "\n",
    "    for spine in ['left', 'bottom']:\n",
    "        ax.spines[spine].set_color(SPINE_COLOR)\n",
    "        ax.spines[spine].set_linewidth(0.5)\n",
    "\n",
    "    ax.xaxis.set_ticks_position('bottom')\n",
    "    ax.yaxis.set_ticks_position('left')\n",
    "\n",
    "    for axis in [ax.xaxis, ax.yaxis]:\n",
    "        axis.set_tick_params(direction='out', color=SPINE_COLOR)\n",
    "        \n",
    "    ax.grid()\n",
    "\n",
    "    return ax"
   ]
  },
  {
   "cell_type": "code",
   "execution_count": 5,
   "metadata": {},
   "outputs": [
    {
     "name": "stderr",
     "output_type": "stream",
     "text": [
      " /home/apoorv/Desktop/github/.env/lib/python3.6/site-packages/sklearn/externals/joblib/__init__.py:15: DeprecationWarning:sklearn.externals.joblib is deprecated in 0.21 and will be removed in 0.23. Please import this functionality directly from joblib, which can be installed with: pip install joblib. If this warning is raised when loading pickled models, you may need to re-serialize those models with scikit-learn 0.21+.\n"
     ]
    },
    {
     "ename": "ModuleNotFoundError",
     "evalue": "No module named 'sklearn.preprocessing._label'",
     "output_type": "error",
     "traceback": [
      "\u001b[0;31m---------------------------------------------------------------------------\u001b[0m",
      "\u001b[0;31mModuleNotFoundError\u001b[0m                       Traceback (most recent call last)",
      "\u001b[0;32m<ipython-input-5-bd15b05e9544>\u001b[0m in \u001b[0;36m<module>\u001b[0;34m\u001b[0m\n\u001b[1;32m      2\u001b[0m \u001b[0;34m\u001b[0m\u001b[0m\n\u001b[1;32m      3\u001b[0m \u001b[0;32mwith\u001b[0m \u001b[0mopen\u001b[0m\u001b[0;34m(\u001b[0m\u001b[0;34m'dump2.pkl'\u001b[0m\u001b[0;34m,\u001b[0m \u001b[0;34m'rb'\u001b[0m\u001b[0;34m)\u001b[0m \u001b[0;32mas\u001b[0m \u001b[0mf\u001b[0m\u001b[0;34m:\u001b[0m\u001b[0;34m\u001b[0m\u001b[0;34m\u001b[0m\u001b[0m\n\u001b[0;32m----> 4\u001b[0;31m     \u001b[0msearch_result\u001b[0m \u001b[0;34m=\u001b[0m \u001b[0mpickle\u001b[0m\u001b[0;34m.\u001b[0m\u001b[0mload\u001b[0m\u001b[0;34m(\u001b[0m\u001b[0mf\u001b[0m\u001b[0;34m)\u001b[0m\u001b[0;34m\u001b[0m\u001b[0;34m\u001b[0m\u001b[0m\n\u001b[0m\u001b[1;32m      5\u001b[0m \u001b[0;34m\u001b[0m\u001b[0m\n\u001b[1;32m      6\u001b[0m \u001b[0mfig\u001b[0m\u001b[0;34m,\u001b[0m \u001b[0max\u001b[0m \u001b[0;34m=\u001b[0m \u001b[0mplt\u001b[0m\u001b[0;34m.\u001b[0m\u001b[0msubplots\u001b[0m\u001b[0;34m(\u001b[0m\u001b[0mfigsize\u001b[0m\u001b[0;34m=\u001b[0m\u001b[0;34m(\u001b[0m\u001b[0;36m16\u001b[0m\u001b[0;34m,\u001b[0m \u001b[0;36m6\u001b[0m\u001b[0;34m)\u001b[0m\u001b[0;34m)\u001b[0m\u001b[0;34m\u001b[0m\u001b[0;34m\u001b[0m\u001b[0m\n",
      "\u001b[0;31mModuleNotFoundError\u001b[0m: No module named 'sklearn.preprocessing._label'"
     ]
    }
   ],
   "source": [
    "import pickle\n",
    "\n",
    "with open('dump2.pkl', 'rb') as f:\n",
    "    search_result = pickle.load(f)\n",
    "\n",
    "fig, ax = plt.subplots(figsize=(16, 6))\n",
    "ax = plot_convergence(search_result, ax=ax)\n",
    "format_axes(ax)\n",
    "plt.savefig(\"MAB_gifs/conv.svg\", ax=ax)"
   ]
  },
  {
   "cell_type": "code",
   "execution_count": null,
   "metadata": {},
   "outputs": [],
   "source": []
  }
 ],
 "metadata": {
  "kernelspec": {
   "display_name": "Python 3",
   "language": "python",
   "name": "python3"
  },
  "language_info": {
   "codemirror_mode": {
    "name": "ipython",
    "version": 3
   },
   "file_extension": ".py",
   "mimetype": "text/x-python",
   "name": "python",
   "nbconvert_exporter": "python",
   "pygments_lexer": "ipython3",
   "version": "3.6.9"
  }
 },
 "nbformat": 4,
 "nbformat_minor": 2
}
