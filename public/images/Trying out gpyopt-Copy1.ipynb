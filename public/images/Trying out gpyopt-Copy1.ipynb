{
 "cells": [
  {
   "cell_type": "code",
   "execution_count": 16,
   "metadata": {},
   "outputs": [
    {
     "name": "stdout",
     "output_type": "stream",
     "text": [
      "Populating the interactive namespace from numpy and matplotlib\n"
     ]
    },
    {
     "name": "stderr",
     "output_type": "stream",
     "text": [
      "/home/apoorv/Desktop/github/.env/lib/python3.6/site-packages/IPython/core/magics/pylab.py:160: UserWarning: pylab import has clobbered these variables: ['f']\n",
      "`%matplotlib` prevents importing * from pylab and numpy\n",
      "  \"\\n`%matplotlib` prevents importing * from pylab and numpy\"\n"
     ]
    }
   ],
   "source": [
    "%pylab inline  \n",
    "\n",
    "from numpy.random import seed\n",
    "import matplotlib\n",
    "import matplotlib.pyplot as plt\n",
    "import os"
   ]
  },
  {
   "cell_type": "code",
   "execution_count": 17,
   "metadata": {},
   "outputs": [],
   "source": [
    "from skopt import gp_minimize\n",
    "\n",
    "def f(x):\n",
    "    \"\"\"The function to predict.\"\"\"\n",
    "    return -(2*((x[0]-3)*np.sin((x[0]-3))) + 2 + 0.5*x[0])\n"
   ]
  },
  {
   "cell_type": "code",
   "execution_count": 24,
   "metadata": {
    "scrolled": true
   },
   "outputs": [],
   "source": [
    "res = gp_minimize(f,  [(0, 6.0)], n_calls = 2, n_random_starts=1, x0=[0.5], noise = 1e-10)"
   ]
  },
  {
   "cell_type": "code",
   "execution_count": 26,
   "metadata": {},
   "outputs": [
    {
     "data": {
      "text/plain": [
       "          fun: -5.242360720519782\n",
       "    func_vals: array([-5.24236072, -4.84816815])\n",
       "       models: [GaussianProcessRegressor(alpha=1e-10, copy_X_train=True,\n",
       "                         kernel=1**2 * Matern(length_scale=1, nu=2.5) + WhiteKernel(noise_level=1e-10),\n",
       "                         n_restarts_optimizer=2, noise=1e-10, normalize_y=True,\n",
       "                         optimizer='fmin_l_bfgs_b', random_state=1108738065)]\n",
       " random_state: RandomState(MT19937) at 0x7F0D80098888\n",
       "        space: Space([Real(low=0, high=6.0, prior='uniform', transform='normalize')])\n",
       "        specs: {'args': {'n_jobs': 1, 'kappa': 1.96, 'xi': 0.01, 'n_restarts_optimizer': 5, 'n_points': 10000, 'callback': None, 'verbose': False, 'random_state': RandomState(MT19937) at 0x7F0D80098888, 'y0': None, 'x0': [0.5], 'acq_optimizer': 'auto', 'acq_func': 'gp_hedge', 'n_random_starts': 1, 'n_calls': 2, 'base_estimator': GaussianProcessRegressor(alpha=1e-10, copy_X_train=True,\n",
       "                         kernel=1**2 * Matern(length_scale=1, nu=2.5),\n",
       "                         n_restarts_optimizer=2, noise=1e-10, normalize_y=True,\n",
       "                         optimizer='fmin_l_bfgs_b', random_state=1108738065), 'dimensions': Space([Real(low=0, high=6.0, prior='uniform', transform='normalize')]), 'func': <function f at 0x7f0d33060400>}, 'function': 'base_minimize'}\n",
       "            x: [0.5]\n",
       "      x_iters: [[0.5], [1.9273885674447562]]"
      ]
     },
     "execution_count": 26,
     "metadata": {},
     "output_type": "execute_result"
    }
   ],
   "source": [
    "res"
   ]
  },
  {
   "cell_type": "code",
   "execution_count": 25,
   "metadata": {},
   "outputs": [
    {
     "ename": "TypeError",
     "evalue": "'AxesSubplot' object is not subscriptable",
     "output_type": "error",
     "traceback": [
      "\u001b[0;31m---------------------------------------------------------------------------\u001b[0m",
      "\u001b[0;31mTypeError\u001b[0m                                 Traceback (most recent call last)",
      "\u001b[0;32m<ipython-input-25-c863d2bb917e>\u001b[0m in \u001b[0;36m<module>\u001b[0;34m\u001b[0m\n\u001b[1;32m      1\u001b[0m \u001b[0;32mfrom\u001b[0m \u001b[0mskopt\u001b[0m\u001b[0;34m.\u001b[0m\u001b[0mplots\u001b[0m \u001b[0;32mimport\u001b[0m \u001b[0;34m*\u001b[0m\u001b[0;34m\u001b[0m\u001b[0;34m\u001b[0m\u001b[0m\n\u001b[0;32m----> 2\u001b[0;31m \u001b[0mplot_objective\u001b[0m\u001b[0;34m(\u001b[0m\u001b[0mres\u001b[0m\u001b[0;34m)\u001b[0m\u001b[0;34m\u001b[0m\u001b[0;34m\u001b[0m\u001b[0m\n\u001b[0m",
      "\u001b[0;32m~/Desktop/github/.env/lib/python3.6/site-packages/skopt/plots.py\u001b[0m in \u001b[0;36mplot_objective\u001b[0;34m(result, levels, n_points, n_samples, size, zscale, dimensions)\u001b[0m\n\u001b[1;32m    334\u001b[0m                                             n_points=n_points)\n\u001b[1;32m    335\u001b[0m \u001b[0;34m\u001b[0m\u001b[0m\n\u001b[0;32m--> 336\u001b[0;31m                 \u001b[0max\u001b[0m\u001b[0;34m[\u001b[0m\u001b[0mi\u001b[0m\u001b[0;34m,\u001b[0m \u001b[0mi\u001b[0m\u001b[0;34m]\u001b[0m\u001b[0;34m.\u001b[0m\u001b[0mplot\u001b[0m\u001b[0;34m(\u001b[0m\u001b[0mxi\u001b[0m\u001b[0;34m,\u001b[0m \u001b[0myi\u001b[0m\u001b[0;34m)\u001b[0m\u001b[0;34m\u001b[0m\u001b[0;34m\u001b[0m\u001b[0m\n\u001b[0m\u001b[1;32m    337\u001b[0m                 \u001b[0max\u001b[0m\u001b[0;34m[\u001b[0m\u001b[0mi\u001b[0m\u001b[0;34m,\u001b[0m \u001b[0mi\u001b[0m\u001b[0;34m]\u001b[0m\u001b[0;34m.\u001b[0m\u001b[0maxvline\u001b[0m\u001b[0;34m(\u001b[0m\u001b[0mresult\u001b[0m\u001b[0;34m.\u001b[0m\u001b[0mx\u001b[0m\u001b[0;34m[\u001b[0m\u001b[0mi\u001b[0m\u001b[0;34m]\u001b[0m\u001b[0;34m,\u001b[0m \u001b[0mlinestyle\u001b[0m\u001b[0;34m=\u001b[0m\u001b[0;34m\"--\"\u001b[0m\u001b[0;34m,\u001b[0m \u001b[0mcolor\u001b[0m\u001b[0;34m=\u001b[0m\u001b[0;34m\"r\"\u001b[0m\u001b[0;34m,\u001b[0m \u001b[0mlw\u001b[0m\u001b[0;34m=\u001b[0m\u001b[0;36m1\u001b[0m\u001b[0;34m)\u001b[0m\u001b[0;34m\u001b[0m\u001b[0;34m\u001b[0m\u001b[0m\n\u001b[1;32m    338\u001b[0m \u001b[0;34m\u001b[0m\u001b[0m\n",
      "\u001b[0;31mTypeError\u001b[0m: 'AxesSubplot' object is not subscriptable"
     ]
    },
    {
     "data": {
      "image/png": "[encoded data removed]",
      "text/plain": [
       "<Figure size 144x144 with 1 Axes>"
      ]
     },
     "metadata": {
      "needs_background": "light"
     },
     "output_type": "display_data"
    }
   ],
   "source": [
    "from skopt.plots import *\n",
    "plot_objective(res)"
   ]
  },
  {
   "cell_type": "code",
   "execution_count": 22,
   "metadata": {},
   "outputs": [
    {
     "data": {
      "text/plain": [
       "          fun: -5.7216593621710015\n",
       "    func_vals: array([-5.24236072, -5.72165936])\n",
       "       models: [GaussianProcessRegressor(alpha=1e-10, copy_X_train=True,\n",
       "                         kernel=1**2 * Matern(length_scale=1, nu=2.5) + WhiteKernel(noise_level=1e-10),\n",
       "                         n_restarts_optimizer=2, noise=1e-10, normalize_y=True,\n",
       "                         optimizer='fmin_l_bfgs_b', random_state=293835151)]\n",
       " random_state: RandomState(MT19937) at 0x7F0D80098888\n",
       "        space: Space([Real(low=0, high=6.0, prior='uniform', transform='normalize')])\n",
       "        specs: {'args': {'n_jobs': 1, 'kappa': 1.96, 'xi': 0.01, 'n_restarts_optimizer': 5, 'n_points': 10000, 'callback': None, 'verbose': False, 'random_state': RandomState(MT19937) at 0x7F0D80098888, 'y0': None, 'x0': [0.5], 'acq_optimizer': 'auto', 'acq_func': 'gp_hedge', 'n_random_starts': 1, 'n_calls': 2, 'base_estimator': GaussianProcessRegressor(alpha=1e-10, copy_X_train=True,\n",
       "                         kernel=1**2 * Matern(length_scale=1, nu=2.5),\n",
       "                         n_restarts_optimizer=2, noise=1e-10, normalize_y=True,\n",
       "                         optimizer='fmin_l_bfgs_b', random_state=293835151), 'dimensions': Space([Real(low=0, high=6.0, prior='uniform', transform='normalize')]), 'func': <function f at 0x7f0d33060400>}, 'function': 'base_minimize'}\n",
       "            x: [1.5120838683874025]\n",
       "      x_iters: [[0.5], [1.5120838683874025]]"
      ]
     },
     "execution_count": 22,
     "metadata": {},
     "output_type": "execute_result"
    }
   ],
   "source": [
    "res"
   ]
  },
  {
   "cell_type": "code",
   "execution_count": 36,
   "metadata": {},
   "outputs": [
    {
     "data": {
      "image/png": "[encoded data removed]",
      "text/plain": [
       "<Figure size 576x1008 with 2 Axes>"
      ]
     },
     "metadata": {
      "needs_background": "light"
     },
     "output_type": "display_data"
    }
   ],
   "source": [
    "from skopt.acquisition import gaussian_ei\n",
    "\n",
    "plt.rcParams[\"figure.figsize\"] = (8, 14)\n",
    "\n",
    "x = np.linspace(0, 6, 600).reshape(-1, 1)\n",
    "x_gp = res.space.transform(x.tolist())\n",
    "fx = np.array([f(x_i) for x_i in x])\n",
    "\n",
    "noise_level = 0\n",
    "# Plot the 5 iterations following the 5 random points\n",
    "for n_iter in range(1):\n",
    "    gp = res.models[n_iter]\n",
    "    curr_x_iters = res.x_iters[:n_iter + 1]\n",
    "    curr_func_vals = res.func_vals[:n_iter + 1]\n",
    "\n",
    "    # Plot true function.\n",
    "    plt.subplot(1, 2, 2*n_iter+1)\n",
    "    plt.plot(x, fx, \"r--\", label=\"True (unknown)\")\n",
    "    plt.fill(np.concatenate([x, x[::-1]]),\n",
    "             np.concatenate([fx - 1.9600 * noise_level, \n",
    "                             fx[::-1] + 1.9600 * noise_level]),\n",
    "             alpha=.2, fc=\"r\", ec=\"None\")\n",
    "\n",
    "    # Plot GP(x) + contours\n",
    "    y_pred, sigma = gp.predict(x_gp, return_std=True)\n",
    "    plt.plot(x, y_pred, \"g--\", label=r\"$\\mu_{GP}(x)$\")\n",
    "    plt.fill(np.concatenate([x, x[::-1]]),\n",
    "             np.concatenate([y_pred - 1.9600 * sigma, \n",
    "                             (y_pred + 1.9600 * sigma)[::-1]]),\n",
    "             alpha=.2, fc=\"g\", ec=\"None\")\n",
    "\n",
    "    # Plot sampled points\n",
    "    plt.plot(curr_x_iters, curr_func_vals,\n",
    "             \"r.\", markersize=8, label=\"Observations\")\n",
    "\n",
    "    # Adjust plot layout\n",
    "    plt.grid()\n",
    "\n",
    "    if n_iter == 0:\n",
    "        plt.legend(loc=\"best\", prop={'size': 6}, numpoints=1)\n",
    "\n",
    "    if n_iter != 4:\n",
    "        plt.tick_params(axis='x', which='both', bottom='off', \n",
    "                        top='off', labelbottom='off') \n",
    "\n",
    "    # Plot EI(x)\n",
    "    plt.subplot(5, 2, 2*n_iter+2)\n",
    "    acq = gaussian_ei(x_gp, gp, y_opt=np.min(curr_func_vals))\n",
    "    plt.plot(x, acq, \"b\", label=\"EI(x)\")\n",
    "    plt.fill_between(x.ravel(), -2.0, acq.ravel(), alpha=0.3, color='blue')\n",
    "\n",
    "    next_x = res.x_iters[n_iter ]\n",
    "    next_acq = gaussian_ei(res.space.transform([next_x]), gp, y_opt=np.min(curr_func_vals))\n",
    "    plt.plot(next_x, next_acq, \"bo\", markersize=6, label=\"Next query point\")\n",
    "\n",
    "    # Adjust plot layout\n",
    "    plt.ylim(0, 0.1)\n",
    "    plt.grid()\n",
    "\n",
    "    if n_iter == 0:\n",
    "        plt.legend(loc=\"best\", prop={'size': 6}, numpoints=1)\n",
    "\n",
    "    if n_iter != 4:\n",
    "        plt.tick_params(axis='x', which='both', bottom='off', \n",
    "                        top='off', labelbottom='off') \n",
    "\n",
    "plt.show()\n"
   ]
  },
  {
   "cell_type": "code",
   "execution_count": null,
   "metadata": {},
   "outputs": [],
   "source": []
  },
  {
   "cell_type": "code",
   "execution_count": null,
   "metadata": {},
   "outputs": [],
   "source": []
  },
  {
   "cell_type": "code",
   "execution_count": null,
   "metadata": {},
   "outputs": [],
   "source": []
  },
  {
   "cell_type": "code",
   "execution_count": null,
   "metadata": {},
   "outputs": [],
   "source": []
  }
 ],
 "metadata": {
  "kernelspec": {
   "display_name": "Python 3",
   "language": "python",
   "name": "python3"
  },
  "language_info": {
   "codemirror_mode": {
    "name": "ipython",
    "version": 3
   },
   "file_extension": ".py",
   "mimetype": "text/x-python",
   "name": "python",
   "nbconvert_exporter": "python",
   "pygments_lexer": "ipython3",
   "version": "3.6.9"
  }
 },
 "nbformat": 4,
 "nbformat_minor": 2
}
