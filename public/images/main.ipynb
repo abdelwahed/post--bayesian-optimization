{
 "cells": [
  {
   "cell_type": "markdown",
   "metadata": {},
   "source": [
    "# Exploring Bayesian Optimization\n",
    "\n",
    "In this post, we are going to focus on two tasks, active learning - where we query the user/oracle to label samples; and the multi-arm bandit - where we again query the user/Oracle which returns us a scalar reward. We will be trying to pose the problems first and then talk about some of the ways to solve these problems.\n",
    "\n",
    "The primary motivation behind active learning is the expensive cost of labeling in machine learning tasks.\n",
    "\n",
    "## Mining Gold!\n",
    "\n",
    "Let us explain the two problems using the gold mining application.\n",
    "We will, for now, look at only one-dimensional locations, i.e., we are talking gold distribution only about a line.\n",
    "The issue we have is that at the start of the activity, we have no idea about the amount of gold at different locations.\n",
    "The only way we can get the information about the amount of gold is by drilling at a location.\n",
    "This drilling is costly and involves expensive sensors to be used.\n",
    "We, therefore, want to minimize the number of drillings that we require.\n",
    "\n",
    "We below show two of the common objectives for the gold mining problem.\n",
    "\n",
    "- **Problem 1: Best Estimate of Gold Distribution**\n",
    "  In this problem, we are supposed to estimate the amount of gold on the one-dimensional line. But we can not drill at every location. We should drill at those locations that provide us the \"maximum\" information about the distribution of the gold.\n",
    "  \n",
    "- **Problem 2: Location of Maximum Gold**\n",
    "  In this problem, we are supposed to find the location in the one-dimensional space where the gold quantity is the maximum. This problem focuses on finding the location with the most gold content.\n",
    "\n",
    "\n",
    "![](MAB_gifs/active-gp.gif)\n",
    "\n",
    "---\n",
    "\n",
    "![](MAB_gifs/mab-gp-pi-eps0.5.gif)\n",
    "\n",
    "- Here are representative animations showing the process of drilling at new locations and to reduce the uncertainty and get the best predictions showcasing the Active Learning problem.\n",
    "\n",
    "- And drilling at locations to get the location of the maximum gold reserve, showcasing the Multi Armed Bandit problem\n",
    "\n",
    "We will build the solution to both of these problems from the ground up.\n",
    "\n",
    "#### Some imports"
   ]
  },
  {
   "cell_type": "code",
   "execution_count": 1,
   "metadata": {},
   "outputs": [],
   "source": [
    "import os\n",
    "import json\n",
    "import warnings\n",
    "import itertools\n",
    "\n",
    "import numpy as np\n",
    "import pandas as pd\n",
    "import matplotlib.pyplot as plt\n",
    "\n",
    "# from sklearn.gaussian_process.kernels import Matern\n",
    "from GPy.mappings.constant import Constant\n",
    "from GPy.kern import Matern52\n",
    "from GPy.models import GPRegression\n",
    "\n",
    "from scipy.special import ndtr\n",
    "from scipy.stats import norm\n",
    "\n",
    "warnings.filterwarnings('ignore')\n",
    "# plt.style.use('classic')\n",
    "plt.style.use('seaborn-paper')\n",
    "%matplotlib inline"
   ]
  },
  {
   "cell_type": "code",
   "execution_count": 2,
   "metadata": {
    "scrolled": true
   },
   "outputs": [],
   "source": [
    "# plotting styles\n",
    "\n",
    "def nnsvm(rcParams, i=0):\n",
    "    rcParams['font.family'] = 'serif'\n",
    "    rcParams['font.serif'] = 'Ubuntu'\n",
    "    rcParams['font.monospace'] = 'Ubuntu Mono'\n",
    "    rcParams['font.size'] = 12 + i\n",
    "    rcParams['axes.labelsize'] = 12 + i\n",
    "    rcParams['axes.labelweight'] = 'normal'\n",
    "    rcParams['xtick.labelsize'] = 10 + i\n",
    "    rcParams['ytick.labelsize'] = 10 + i\n",
    "    rcParams['legend.fontsize'] = 12 + i\n",
    "    rcParams['figure.titlesize'] = 14 + i\n",
    "    rcParams['lines.linewidth']= 2.7\n",
    "    rcParams['axes.titlesize'] = 14 + i\n",
    "alpha_plt = 0.3 # beautification\n",
    "    \n",
    "# gifs stuff\n",
    "gifDir = 'MAB_gifs'\n",
    "os.makedirs(gifDir, exist_ok=True)\n",
    "delay = 80"
   ]
  },
  {
   "cell_type": "markdown",
   "metadata": {},
   "source": [
    "#### Prettyfing Matplotlib plots"
   ]
  },
  {
   "cell_type": "code",
   "execution_count": 3,
   "metadata": {},
   "outputs": [
    {
     "data": {
      "image/png": "[encoded data removed]",
      "text/plain": [
       "<Figure size 432x288 with 1 Axes>"
      ]
     },
     "metadata": {
      "needs_background": "light"
     },
     "output_type": "display_data"
    }
   ],
   "source": [
    "plt.gca().grid()"
   ]
  },
  {
   "cell_type": "code",
   "execution_count": 4,
   "metadata": {},
   "outputs": [],
   "source": [
    "SPINE_COLOR = 'gray'\n",
    "\n",
    "def format_axes(ax):\n",
    "    \n",
    "    for spine in ['top', 'right']:\n",
    "        ax.spines[spine].set_visible(False)\n",
    "\n",
    "    for spine in ['left', 'bottom']:\n",
    "        ax.spines[spine].set_color(SPINE_COLOR)\n",
    "        ax.spines[spine].set_linewidth(0.5)\n",
    "\n",
    "    ax.xaxis.set_ticks_position('bottom')\n",
    "    ax.yaxis.set_ticks_position('left')\n",
    "\n",
    "    for axis in [ax.xaxis, ax.yaxis]:\n",
    "        axis.set_tick_params(direction='out', color=SPINE_COLOR)\n",
    "        \n",
    "    ax.grid(alpha=.25)\n",
    "\n",
    "    return ax"
   ]
  },
  {
   "cell_type": "markdown",
   "metadata": {},
   "source": [
    "### Active Learning\n",
    "\n",
    "**Problem 1** is very similar to problems we like to solve using active learning. Active learning is used to predict distribution by reducing uncertainty. One of the ways we can reduce the uncertainty is by choosing the point at which we have the maximum variance (we are most uncertain).\n",
    "\n",
    "### Gaussian Processes\n",
    "\n",
    "In our previous post, [here](GP-1.html); we had introduced the Gaussian Process. As you can remember, we use Gaussian Processes to get a prediction as well as the attached uncertainty (variance) with that prediction. This will turn out to be useful for us, as we wanted to drill where we were most uncertain. By using Gaussian processes, we take some very naive assumption that the gold distribution of nearby points in similar (smoothness)."
   ]
  },
  {
   "cell_type": "markdown",
   "metadata": {},
   "source": [
    "#### Creating ground truth data"
   ]
  },
  {
   "cell_type": "code",
   "execution_count": 5,
   "metadata": {},
   "outputs": [],
   "source": [
    "def f(x):\n",
    "    \"\"\"The function to predict.\"\"\"\n",
    "    return 2*((x-3)*np.sin((x-3))) + 2 + 0.5*x"
   ]
  },
  {
   "cell_type": "markdown",
   "metadata": {},
   "source": [
    "Let us now try to see how our groundtruth data looks like."
   ]
  },
  {
   "cell_type": "code",
   "execution_count": 6,
   "metadata": {},
   "outputs": [],
   "source": [
    "nnsvm(plt.rcParams, -2)"
   ]
  },
  {
   "cell_type": "code",
   "execution_count": 7,
   "metadata": {},
   "outputs": [
    {
     "data": {
      "image/png": "[encoded data removed]",
      "text/plain": [
       "<Figure size 432x288 with 1 Axes>"
      ]
     },
     "metadata": {
      "needs_background": "light"
     },
     "output_type": "display_data"
    }
   ],
   "source": [
    "x = np.atleast_2d(np.linspace(0, 6, 600)).T\n",
    "plt.plot(x, f(x), color='purple', label='GT')\n",
    "plt.xlabel(\"X\")\n",
    "plt.ylabel(\"Gold content\")\n",
    "plt.title(\"Ground Truth for Gold Content\")\n",
    "format_axes(plt.gca())\n",
    "plt.savefig('MAB_gifs/GT.svg', bbox_inches=\"tight\")\n",
    "plt.show()"
   ]
  },
  {
   "cell_type": "markdown",
   "metadata": {},
   "source": [
    "#### Prior Model\n",
    "\n",
    "Our prior model doesn't know much and assumes a smooth relationship between points via an Matern kernel. The Grey line in the graph below denotes the knowledge we have about the gold content without drilling even at a single location."
   ]
  },
  {
   "cell_type": "code",
   "execution_count": 8,
   "metadata": {
    "scrolled": false
   },
   "outputs": [
    {
     "data": {
      "image/png": "[encoded data removed]",
      "text/plain": [
       "<Figure size 432x288 with 1 Axes>"
      ]
     },
     "metadata": {
      "needs_background": "light"
     },
     "output_type": "display_data"
    }
   ],
   "source": [
    "# kernel = Matern(length_scale=1.0)\n",
    "# kernel = None\n",
    "\n",
    "y_pred, sigma = 5*np.ones(x.shape).flatten(), 1.1*np.ones(x.shape).flatten()\n",
    "plt.plot(x, y_pred, 'k', label='Predicted ($\\mu$)')\n",
    "plt.plot(x, f(x), 'purple', label=r'Ground Truth ($f$)')\n",
    "plt.xlabel(\"X\")\n",
    "plt.ylabel(\"Gold content\")\n",
    "plt.title(\"Prior\")\n",
    "plt.fill_between(x.flatten(), y_pred+sigma, y_pred-sigma,\n",
    "                 color='gray', \n",
    "                 alpha=alpha_plt, label=r'$\\mu \\pm \\sigma$')\n",
    "plt.legend(bbox_to_anchor=(1.04,1), loc=\"upper left\")\n",
    "format_axes(plt.gca())\n",
    "plt.savefig('MAB_gifs/prior.svg', bbox_inches=\"tight\")"
   ]
  },
  {
   "cell_type": "markdown",
   "metadata": {},
   "source": [
    "Also, take notice that the confidence (uncertainty) about the gold content is also the same for every location.\n",
    "\n",
    "####  Adding Training Data\n",
    "Let us now add a point to the train set or in other words, drill one of the locations and see the gold content (`y`). We can see how our confidence and our estimates change after we get this first information by fitting the model to the new data. I am going to add `(x = 0.5, y = f(0.5))` into the train set now."
   ]
  },
  {
   "cell_type": "code",
   "execution_count": 9,
   "metadata": {},
   "outputs": [],
   "source": [
    "train_X = np.atleast_2d([0.5, 0.12]).T\n",
    "train_y = f(train_X)"
   ]
  },
  {
   "cell_type": "code",
   "execution_count": 10,
   "metadata": {},
   "outputs": [],
   "source": [
    "def gp_creator(x, y, val = 5):\n",
    "    y.resize(x.shape[0], 1)\n",
    "    ker = Matern52(x.shape[1], ARD=True, variance=1)\n",
    "#     print (x, x.mean())\n",
    "    mean_fn = Constant(x.shape[1], 1, value=val)\n",
    "    gp = GPRegression(x, y, kernel=ker, noise_var=0,\n",
    "                      mean_function = mean_fn)\n",
    "    gp.optimize()\n",
    "    return gp"
   ]
  },
  {
   "cell_type": "code",
   "execution_count": 11,
   "metadata": {},
   "outputs": [
    {
     "data": {
      "image/png": "[encoded data removed]",
      "text/plain": [
       "<Figure size 432x288 with 1 Axes>"
      ]
     },
     "metadata": {
      "needs_background": "light"
     },
     "output_type": "display_data"
    }
   ],
   "source": [
    "train_X = np.atleast_2d([0.5]).T\n",
    "train_y = f(train_X).flatten()\n",
    "gp = gp_creator(train_X, train_y)\n",
    "# gp.fit(train_X, train_y)\n",
    "# gp.optimize()\n",
    "y_pred, sigma = [t.flatten() for t in gp.predict(x)]\n",
    "plt.plot(x, y_pred, 'k', label=r'Predicted ($\\mu$)')\n",
    "plt.plot(x, f(x), 'purple', label=r'Ground Truth ($f$)')\n",
    "plt.xlabel(\"X\")\n",
    "plt.title(\"Posterior\")\n",
    "plt.ylabel(\"Gold content\")\n",
    "plt.fill_between(x.flatten(), y_pred+sigma, y_pred-sigma, color='gray', alpha=alpha_plt, label=r'$\\mu \\pm \\sigma$')\n",
    "plt.scatter(train_X, train_y, color='red', s=300, zorder=10, label='Last Added Point')\n",
    "plt.legend(bbox_to_anchor=(1.04,1), loc=\"upper left\")\n",
    "format_axes(plt.gca())\n",
    "plt.savefig('MAB_gifs/posterior.svg', bbox_inches=\"tight\")"
   ]
  },
  {
   "cell_type": "markdown",
   "metadata": {},
   "source": [
    "Nice! We see now that the posterior has changed and we are very certain about the gold content in the vicinity of `x = 0.5`, but, very uncertain far away from it. Also, we can see that the mean of the point closer to `x = 0.5` is closer to the value that we got from drilling and seeing the gold content. So, we now come to the key idea.\n",
    "\n",
    "#### Active Learning Procedure\n",
    "\n",
    "1. Choose the point of having the highest uncertainty\n",
    "2. Add the point to train set\n",
    "3. Train on the new train set\n",
    "4. Go to 1 till convergence or budget elapsed"
   ]
  },
  {
   "cell_type": "code",
   "execution_count": 12,
   "metadata": {},
   "outputs": [
    {
     "data": {
      "text/plain": [
       "5.572003681521661"
      ]
     },
     "execution_count": 12,
     "metadata": {},
     "output_type": "execute_result"
    }
   ],
   "source": [
    "f(x).mean()"
   ]
  },
  {
   "cell_type": "code",
   "execution_count": 13,
   "metadata": {},
   "outputs": [],
   "source": [
    "# Stopping criteria is 10 iterations\n",
    "nnsvm(plt.rcParams, 2)\n",
    "for i in range(10):\n",
    "    # Fit on current train set\n",
    "    gp = gp_creator(train_X, train_y)\n",
    "#     gp.optimize(?)\n",
    "    # predict on current pool set\n",
    "    y_pred, sigma = [t.flatten() for t in gp.predict(x)]\n",
    "    plt.plot(x, y_pred, 'k', label=r'Predicted ($\\mu$)')\n",
    "    plt.plot(x, f(x), 'purple', label=r'Ground Truth ($f$)')\n",
    "    plt.xlabel(\"X\")\n",
    "    plt.ylabel(\"Gold content\")\n",
    "    plt.fill_between(x.flatten(), y_pred+sigma, y_pred-sigma, \n",
    "                     color='gray', alpha=alpha_plt, label=r'$\\mu \\pm \\sigma$')\n",
    "    plt.scatter(train_X[:-1], train_y[:-1], color='black', s=300, zorder=10, label='Training points')\n",
    "    plt.scatter(train_X[-1], train_y[-1], color='red', s=300, zorder=10, label='Query Point')\n",
    "    plt.legend(bbox_to_anchor=(1.04,1), loc=\"upper left\")\n",
    "    plt.title(f\"Iteration: {i}\")\n",
    "    format_axes(plt.gca())\n",
    "    plt.ylim((1, 9))\n",
    "    plt.xlim((-1, 7))\n",
    "    dirName = 'active-gp-img'\n",
    "    os.makedirs(dirName, exist_ok=True)\n",
    "    plt.savefig(f\"{dirName}/{i}.png\", bbox_inches=\"tight\", dpi=180)\n",
    "    plt.close()\n",
    "    \n",
    "    # Choose the next point with highest sigma\n",
    "    next_ix = np.argmax(sigma)\n",
    "    next_x = x[next_ix]\n",
    "    # Add new point with highest uncertainty to the pool set\n",
    "    train_X = np.vstack([train_X, [x[next_ix]]])\n",
    "    train_y = f(train_X)"
   ]
  },
  {
   "cell_type": "markdown",
   "metadata": {},
   "source": [
    "Let us now automate this process and see how our posterior changes at every iteration where we add a sensor. For each of our iteration below, the prior was the Gaussian Process learned on the points already in the training set. We have recreated the 1st animation at the top of the post!"
   ]
  },
  {
   "cell_type": "code",
   "execution_count": 14,
   "metadata": {},
   "outputs": [],
   "source": [
    "# !convert -delay {delay} -loop 0 active-gp-img/*.png MAB_gifs/active-gp.gif"
   ]
  },
  {
   "cell_type": "code",
   "execution_count": 15,
   "metadata": {},
   "outputs": [
    {
     "data": {
      "text/html": [
       "<style type=\"text/css\">\n",
       ".pd{\n",
       "    font-family: \"Courier New\", Courier, monospace !important;\n",
       "    width: 100%;\n",
       "    padding: 3px;\n",
       "}\n",
       "</style>\n",
       "\n",
       "<p class=pd>\n",
       "<b>Model</b>: GP regression<br>\n",
       "<b>Objective</b>: 22.772512176772885<br>\n",
       "<b>Number of Parameters</b>: 4<br>\n",
       "<b>Number of Optimization Parameters</b>: 4<br>\n",
       "<b>Updates</b>: True<br>\n",
       "</p>\n",
       "<style type=\"text/css\">\n",
       ".tg  {font-family:\"Courier New\", Courier, monospace !important;padding:2px 3px;word-break:normal;border-collapse:collapse;border-spacing:0;border-color:#DCDCDC;margin:0px auto;width:100%;}\n",
       ".tg td{font-family:\"Courier New\", Courier, monospace !important;font-weight:bold;color:#444;background-color:#F7FDFA;border-style:solid;border-width:1px;overflow:hidden;word-break:normal;border-color:#DCDCDC;}\n",
       ".tg th{font-family:\"Courier New\", Courier, monospace !important;font-weight:normal;color:#fff;background-color:#26ADE4;border-style:solid;border-width:1px;overflow:hidden;word-break:normal;border-color:#DCDCDC;}\n",
       ".tg .tg-left{font-family:\"Courier New\", Courier, monospace !important;font-weight:normal;text-align:left;}\n",
       ".tg .tg-center{font-family:\"Courier New\", Courier, monospace !important;font-weight:normal;text-align:center;}\n",
       ".tg .tg-right{font-family:\"Courier New\", Courier, monospace !important;font-weight:normal;text-align:right;}\n",
       "</style>\n",
       "<table class=\"tg\"><tr><th><b>  GP_regression.         </b></th><th><b>                 value</b></th><th><b>constraints</b></th><th><b>priors</b></th></tr>\n",
       "<tr><td class=tg-left>  constmap.C             </td><td class=tg-right>                   5.0</td><td class=tg-center>           </td><td class=tg-center>      </td></tr>\n",
       "<tr><td class=tg-left>  Mat52.variance         </td><td class=tg-right>                   1.0</td><td class=tg-center>    +ve    </td><td class=tg-center>      </td></tr>\n",
       "<tr><td class=tg-left>  Mat52.lengthscale      </td><td class=tg-right>                   1.0</td><td class=tg-center>    +ve    </td><td class=tg-center>      </td></tr>\n",
       "<tr><td class=tg-left>  Gaussian_noise.variance</td><td class=tg-right>5.562684646268137e-309</td><td class=tg-center>    +ve    </td><td class=tg-center>      </td></tr>\n",
       "</table>"
      ],
      "text/plain": [
       "<GPy.models.gp_regression.GPRegression at 0x7f8606e06e10>"
      ]
     },
     "execution_count": 15,
     "metadata": {},
     "output_type": "execute_result"
    }
   ],
   "source": [
    "gp"
   ]
  },
  {
   "cell_type": "markdown",
   "metadata": {},
   "source": [
    "![](MAB_gifs/active-gp.gif)\n",
    "\n",
    "There you go we have recreated one of the plots from the starting of the blog! One point to notice is that this idea of choosing the most uncertain location leads to querying of the points that are the farthest (visible when we choose the 2nd location to drill). This might not be so good as we are kind of wasting our drillings because they are at the boundary of the 1-dimensional plot.\n",
    "\n",
    "----\n",
    "\n",
    "### Multi-Armed Bandit\n",
    "\n",
    "**Problem 2** requires us to find the location where the gold content is maximum. Even though the problem setting may be similar, the objective is quite different than problem 1. In other words, we just want the location where we can drill to get the most gold.\n",
    "\n",
    "Older problem - Earlier in the active learning problem, our motivation for drilling at locations was to predict the distribution of the gold content over all the locations in the one-dimensional line. We, therefore, had chosen the next location to drill where we had maximum uncertainty about our estimate.\n",
    "\n",
    "In this problem, we are instead interested to know the location at which we find the maximum gold. For getting the location of maximum gold content, we might want to drill at the location where predicted mean is the highest (exploit). But unfortunately our mean is not always accurate, so we need to correct our mean (reduce variance / explore) too. Multi-Arm Bandit looks at both exploitation and exploration, whereas in the case of Active Learning Problem, we only cared about exploration.\n",
    "\n",
    "#### Acquisition Functions\n",
    "\n",
    "Now, to take into account the combination of exploration and exploitation, we try to use a function which combines the two sides. These utility functions that take into account both exploration and exploitation in multi-arm bandit problem are called acquisition functions."
   ]
  },
  {
   "cell_type": "code",
   "execution_count": 16,
   "metadata": {},
   "outputs": [],
   "source": [
    "val = 5"
   ]
  },
  {
   "cell_type": "code",
   "execution_count": null,
   "metadata": {},
   "outputs": [],
   "source": []
  },
  {
   "cell_type": "code",
   "execution_count": 17,
   "metadata": {},
   "outputs": [],
   "source": [
    "class ACQ:\n",
    "    def acq_fn(self, *args, **kwargs):\n",
    "        raise NotImplemented\n",
    "    def __str__(self):\n",
    "        return self.__class__.__name__\n",
    "    def __call__(self, *args, **kwargs):\n",
    "        return self.acq_fn(*args, **kwargs)\n",
    "\n",
    "class ACQ1(ACQ):\n",
    "    def acq_fn(self, gp, x, lam = 0.4, **kwrags):\n",
    "        \"\"\"\n",
    "        gp: sklearn.GPRegresssor\n",
    "        lam: float, where the objective is: \\mu(x) + \\lambda \\sigma(x)\n",
    "        \"\"\"\n",
    "        y_pred, sigma = [t.flatten() for t in gp.predict(x)]\n",
    "        return y_pred + lam*sigma"
   ]
  },
  {
   "cell_type": "code",
   "execution_count": 18,
   "metadata": {},
   "outputs": [
    {
     "data": {
      "image/png": "[encoded data removed]",
      "text/plain": [
       "<Figure size 432x288 with 1 Axes>"
      ]
     },
     "metadata": {
      "needs_background": "light"
     },
     "output_type": "display_data"
    }
   ],
   "source": [
    "acq_obj = ACQ1()\n",
    "\n",
    "train_X = np.atleast_2d([0.5]).T\n",
    "train_y = f(train_X)\n",
    "gp = gp_creator(train_X, train_y)\n",
    "y_pred, sigma = [t.flatten() for t in gp.predict(x)]\n",
    "plt.plot(x, y_pred, 'k', label=r'Predicted ($\\mu$)')\n",
    "plt.plot(x, f(x), 'purple', label=r'Ground Truth ($f$)')\n",
    "plt.xlabel(\"X\")\n",
    "plt.ylabel(\"Gold content\")\n",
    "plt.fill_between(x.flatten(), y_pred+sigma, y_pred-sigma, \n",
    "                 color='gray', alpha=alpha_plt, label=r'$\\mu \\pm \\sigma$')\n",
    "plt.scatter(train_X, train_y, color='red', s=200, zorder=10, label='Training points')\n",
    "plt.plot(x, acq_obj(gp, x, 5), label='Acquisition function', color='green')\n",
    "format_axes(plt.gca())\n",
    "plt.legend(bbox_to_anchor=(1.04,1), loc=\"upper left\")\n",
    "plt.savefig(f\"MAB_gifs/acq_fn.svg\", bbox_inches=\"tight\")"
   ]
  },
  {
   "cell_type": "markdown",
   "metadata": {},
   "source": [
    "Here, we can see that mean near the location of the just added point (red point) is high. But as we go far from the red point, we see that our uncertainty increases to a maximum. As we discussed in multi-arm bandit problem, we like to have some combination of exploration and exploitation. The most basic way to do so is by linearly combining the two values.\n",
    "\n",
    "### ACQ1\n",
    "\n",
    "This combined value that takes into account exploration and exploitation is referred to as the acquisition value, returned by acquisition function. We see at around the location `x = 1.4` we get the maximum value for the acquisition (green curve). Thus we next select this location to drill.\n",
    "\n",
    "The intuition of using the acquisition function `mean + lam * uncertainty` is that we are interested in finding the global mean, so taking into account the estimated mean would be a good idea. Additionally, we would like to explore too (using `lam`); else we might be stuck in a local minimum if don't explore too much (see below).\n",
    "\n",
    "We define a big plotting function below for saving us the trouble down the road."
   ]
  },
  {
   "cell_type": "code",
   "execution_count": 19,
   "metadata": {},
   "outputs": [],
   "source": [
    "def rargmax(b):\n",
    "    \"\"\"Randomly tie breaking argmax\"\"\"\n",
    "    return np.random.choice(np.flatnonzero(b == b.max()))\n",
    "\n",
    "def plot_acquisition(\n",
    "        train_X, train_y,\n",
    "        acq_class, val,  acq_params={},\n",
    "        ylim0=None, xlim0=None,\n",
    "        ylim1=None, xlim1=None,\n",
    "        y1scale='linear', it = 10,\n",
    "        seed = 0\n",
    "    ):\n",
    "    \"\"\"acq_params would contain the parameters for our acq_fn\"\"\"\n",
    "    np.random.seed(seed)\n",
    "    # for storing the max till it iters\n",
    "    max_till_now = []\n",
    "    \n",
    "    # Stopping criteria is 10 iterations\n",
    "    for i in range(it):\n",
    "        fig, ax = plt.subplots(nrows=2, sharex=True)\n",
    "        ax[1].set_yscale(y1scale)\n",
    "        \n",
    "        # limits\n",
    "        ax[0].set_ylim(ylim0) if ylim0 is not None else ax[0].set_ylim(min(f(x)-.5), max(f(x))+.5)\n",
    "        ax[0].set_xlim(xlim0) if xlim0 is not None else ax[0].set_xlim(min(x)-.5, max(x)+.5)\n",
    "        ax[1].set_ylim(ylim1) if ylim1 is not None else None\n",
    "        ax[1].set_xlim(xlim1) if xlim1 is not None else ax[1].set_xlim(min(x)-.5, max(x)+.5)\n",
    "        \n",
    "        # fitting\n",
    "        gp = gp_creator(train_X, train_y, val)\n",
    "        \n",
    "        # plot Acquisition\n",
    "        acq_obj = acq_class()\n",
    "        acquisition = acq_obj(gp, x, t=i+1, \n",
    "                              **acq_params, \n",
    "                              mu=max(train_y))\n",
    "        ax[1].plot(x, acquisition, label='Acquisition function', color='green')\n",
    "        \n",
    "        # predict on current pool set\n",
    "        y_pred, sigma = [t.flatten() for t in gp.predict(x)]\n",
    "        ax[0].plot(x, y_pred, 'k', label=r'Predicted ($\\mu$)')\n",
    "        ax[0].plot(x, f(x), 'purple', label=r'Ground Truth ($f$)')\n",
    "        ax[0].set_xlabel(\"X\")\n",
    "        ax[0].set_ylabel(\"Gold content\")\n",
    "        ax[0].fill_between(x.flatten(), y_pred+sigma,\n",
    "                           y_pred-sigma, color='gray',\n",
    "                           alpha=alpha_plt, label=r'$\\mu \\pm \\sigma$')\n",
    "        ax[0].scatter(train_X, train_y, color='black', s=100,\n",
    "                      zorder=10, label='Training Points')\n",
    "        ax[0].legend(bbox_to_anchor=(1.04,1), loc=\"upper left\")\n",
    "        if str(acq_obj) == \"PI\":\n",
    "            ax[1].set_ylabel(r'$\\alpha_{PI}$')\n",
    "        elif str(acq_obj) == \"EI\":\n",
    "            ax[1].set_ylabel(r'$\\alpha_{EI}$')\n",
    "        elif str(acq_obj) == \"GP_UCB\":\n",
    "            ax[1].set_ylabel(r'$\\alpha_{GP-UCB}$')\n",
    "        elif str(acq_obj) == \"ACQ1\":\n",
    "            ax[1].set_ylabel(r'$\\alpha_{UCB}$')\n",
    "        elif str(acq_obj) == \"Rand\":\n",
    "            ax[1].set_ylabel(r'$\\alpha_{Random}$')\n",
    "        elif str(acq_obj) == \"EI_PI\":\n",
    "            ax[1].set_ylabel(r'$\\alpha_{EI-PI}$')\n",
    "        elif str(acq_obj) == \"Thompson\":\n",
    "            ax[1].set_ylabel(r'$\\alpha_{Thompson}$')\n",
    "        else:\n",
    "            raise ValueError\n",
    "            \n",
    "        \n",
    "        if 'eps' in acq_params.keys():\n",
    "            ax[0].set_title(f\"Iteration: {i} \\n\" + r\"$\\epsilon$ = \" + f\"{acq_params['eps']}\")\n",
    "            \n",
    "        elif 'lam' in acq_params.keys():\n",
    "            ax[0].set_title(f\"Iteration: {i} \\n\" + r\"$\\lambda$ = \" + f\"{acq_params['lam']}\")\n",
    "        \n",
    "        elif 'v' in acq_params.keys():\n",
    "            ax[0].set_title(f\"Iteration: {i} \\n\" + \\\n",
    "                            r\"$v$ = \" + str(acq_params['v']) + '\\n' \\\n",
    "                            r\"$\\delta$ = \" + str(acq_params['delta']))\n",
    "        \n",
    "        # Choose the next point with highest sigma\n",
    "        max_mu = np.max(train_y).item()\n",
    "        max_till_now.append(max_mu)\n",
    "        next_ix = rargmax(acquisition)\n",
    "        next_x = x[next_ix]\n",
    "\n",
    "        # Add new point with highest uncertainty to the pool set\n",
    "        train_X = np.vstack([train_X, [x[next_ix]]])\n",
    "        train_y = f(train_X)\n",
    "\n",
    "        # Add new point with highest uncertainty to the pool set\n",
    "        ax[1].scatter(x[next_ix], acquisition[next_ix], marker='+',s=50,\n",
    "                      c='blue', zorder=10, label='Maxima')\n",
    "        ax[1].axvline(x = x[next_ix], color='black', lw=0.6, zorder=7, alpha=1)\n",
    "        ax[1].axhline(y = acquisition[next_ix], color='black', lw=0.6, zorder=7, alpha=1)\n",
    "        ax[0].scatter(x[next_ix], f(x[next_ix]), color='red',\n",
    "                      s=200, zorder=1, label='Query Point')\n",
    "        ax[0].legend(bbox_to_anchor=(1.1,1), loc=\"upper left\")\n",
    "        ax[1].legend(bbox_to_anchor=(1.1,0.5), loc=\"upper left\")\n",
    "        train_X = np.vstack([train_X, [x[next_ix]]])\n",
    "        train_y = f(train_X)\n",
    "        format_axes(ax[0])\n",
    "        format_axes(ax[1])\n",
    "\n",
    "        acq_params_str = '-'.join(list(map(str, acq_params.values())))\n",
    "        dirName = './MAB_pngs/'+str(acq_obj)+'/'+acq_params_str\n",
    "        os.makedirs(dirName, exist_ok=True)\n",
    "        plt.savefig(f\"{dirName}/{i}.png\", bbox_inches=\"tight\", dpi=180)\n",
    "        plt.close()\n",
    "    return dirName, max_till_now"
   ]
  },
  {
   "cell_type": "code",
   "execution_count": 20,
   "metadata": {},
   "outputs": [],
   "source": [
    "train_X = np.atleast_2d([0.5]).T\n",
    "train_y = f(train_X)"
   ]
  },
  {
   "cell_type": "code",
   "execution_count": 21,
   "metadata": {},
   "outputs": [],
   "source": [
    "nnsvm(plt.rcParams, 2)"
   ]
  },
  {
   "cell_type": "code",
   "execution_count": 22,
   "metadata": {},
   "outputs": [],
   "source": [
    "# acq_params = {'lam': 0.01}\n",
    "\n",
    "# dirName, _ = plot_acquisition(\n",
    "#     train_X, train_y,\n",
    "#     ACQ1, val, acq_params,\n",
    "#     ylim1=(1, 10)\n",
    "# )\n",
    "\n",
    "# # gify\n",
    "# !convert -delay {delay} -loop 0 {dirName}/*.png {gifDir}/mab-gp-{acq_params['lam']}.gif"
   ]
  },
  {
   "cell_type": "markdown",
   "metadata": {},
   "source": [
    "Let us now try different hyperparameters for `ACQ1`. We can see that on increasing `lam` we \"explore\" more! In the below case we can easily see since we didn't give too much importance to the uncertainty (low `lam`) we got stuck in local minima."
   ]
  },
  {
   "cell_type": "markdown",
   "metadata": {},
   "source": [
    "![](MAB_gifs/mab-gp-1.gif)"
   ]
  },
  {
   "cell_type": "code",
   "execution_count": 23,
   "metadata": {},
   "outputs": [],
   "source": [
    "# acq_params = {'lam': 0.3}\n",
    "\n",
    "# dirName, _ = plot_acquisition(\n",
    "#     train_X, train_y,\n",
    "#     ACQ1,  val, acq_params,\n",
    "#     ylim1=(1, 10)\n",
    "# )\n",
    "\n",
    "# # gify\n",
    "# !convert -delay {delay} -loop 0 {dirName}/*.png {gifDir}/mab-gp-{acq_params['lam']}.gif"
   ]
  },
  {
   "cell_type": "markdown",
   "metadata": {},
   "source": [
    "Below we can see that this choice of `lam = 5` is still a little smaller than we like (we would like to see that we get to exploit the location where the gold is the most.).\n",
    "\n",
    "![](MAB_gifs/mab-gp-5.gif)"
   ]
  },
  {
   "cell_type": "code",
   "execution_count": 24,
   "metadata": {},
   "outputs": [],
   "source": [
    "acq_params = {'lam': 3}\n",
    "\n",
    "dirName, mtn_acq = plot_acquisition(\n",
    "    train_X, train_y,\n",
    "    ACQ1,  val, acq_params,\n",
    "    ylim1=(1, 14)\n",
    ")\n",
    "\n",
    "# !convert -delay {delay} -loop 0 {dirName}/*.png {gifDir}/mab-gp-{acq_params['lam']}.gif"
   ]
  },
  {
   "cell_type": "markdown",
   "metadata": {},
   "source": [
    "Perfect! We see that setting this value of `lam = 10` resulted in finding points near the global maxima and not getting stuck in a local maximum.\n",
    "\n",
    "![](MAB_gifs/mab-gp-10.gif)\n",
    "\n",
    "---\n",
    "\n",
    "### Random\n",
    "We had used a little intelligent acquisition function earlier, let's see is out acquisition function is not that intelligent and chooses randomly."
   ]
  },
  {
   "cell_type": "code",
   "execution_count": 25,
   "metadata": {},
   "outputs": [],
   "source": [
    "class Rand(ACQ):\n",
    "    def acq_fn(\n",
    "        self, gp, x, **kwargs):\n",
    "        \"\"\"\n",
    "        gp: sklearn.GPRegresssor\n",
    "        \"\"\"\n",
    "        return np.random.uniform(size=x.shape[0])"
   ]
  },
  {
   "cell_type": "code",
   "execution_count": 26,
   "metadata": {},
   "outputs": [],
   "source": [
    "# http://www.johndcook.com/blog/standard_deviation/\n",
    "# https://github.com/joschu/modular_rl/blob/master/modular_rl/running_stat.py\n",
    "\n",
    "class RunningStat(object):\n",
    "    def __init__(self, shape):\n",
    "        self._n = 0\n",
    "        self._M = np.zeros(shape)\n",
    "        self._S = np.zeros(shape)\n",
    "    def push(self, x):\n",
    "        x = np.asarray(x)\n",
    "        assert x.shape == self._M.shape\n",
    "        self._n += 1\n",
    "        if self._n == 1:\n",
    "            self._M[...] = x\n",
    "        else:\n",
    "            oldM = self._M.copy()\n",
    "            self._M[...] = oldM + (x - oldM)/self._n\n",
    "            self._S[...] = self._S + (x - oldM)*(x - self._M)\n",
    "    @property\n",
    "    def n(self):\n",
    "        return self._n\n",
    "    @property\n",
    "    def mean(self):\n",
    "        return self._M\n",
    "    @property\n",
    "    def var(self):\n",
    "        return self._S/(self._n - 1) if self._n > 1 else np.square(self._M)\n",
    "    @property\n",
    "    def std(self):\n",
    "        return np.sqrt(self.var)\n",
    "    @property\n",
    "    def shape(self):\n",
    "        return self._M.shape"
   ]
  },
  {
   "cell_type": "code",
   "execution_count": 27,
   "metadata": {},
   "outputs": [],
   "source": [
    "stats = RunningStat(len(mtn_acq))\n",
    "for seed in range(10):\n",
    "    dirName, temp = plot_acquisition(\n",
    "        train_X, train_y,\n",
    "        Rand,val,  ylim1=(0, 1.2),\n",
    "        seed=seed\n",
    "    )\n",
    "    stats.push(temp)\n",
    "\n",
    "mtn_rand = stats.mean\n",
    "rand_sig = stats.std\n",
    "\n",
    "# gify\n",
    "# !convert -delay {delay} -loop 0 {dirName}/*.png {gifDir}/rand.gif"
   ]
  },
  {
   "cell_type": "markdown",
   "metadata": {},
   "source": [
    "We have here implemented a random method as a baseline. Notice, random method can find a location near the global maximum but is not able to exploit (try to find the global maxima that might be near this \"best\" location). Instead, it randomly chooses to explore (not even intelligently) here and there. Even with no intelligent, we might get good locations which might be close to the location with the most gold content.\n",
    "\n",
    "![](MAB_gifs/rand.gif)\n",
    "\n",
    "---\n",
    "\n",
    "### Probability of Improvement (PI)\n",
    "\n",
    "Let us look into our next method for the MAB maximisation problem. As before, we want to balance or trade-off between exploration and exploitation. The idea behind the algorithm is fairly simple - choose the next point as the one which has the highest probability of improvement over the current max ($\\mu^+$).\n",
    "\n",
    "\n",
    "Let's understand this concept via two cases:\n",
    "\n",
    "1. We have two points of similar means (of function values (gold in our case)). We now want to choose one of these to obtain the labels or values. We will choose the one with higher variance. This basically says that given same exploitability, we choose the one with higher exploration value.\n",
    "2. We have two points having same variance. We would now choose the point with the higher mean. This basically says that given same explorability, we will choose the one with higher exploitation value.\n",
    "\n",
    "\n",
    "1. Let $\\mu^+$ be the current highest value of the function\n",
    "2. Let $\\epsilon$ be close to zero\n",
    "3. Choose $x^* = arg\\,max(P(f(x)) > (\\mu^+ +\\epsilon))$\n",
    "\n",
    "This can be given as: $x^* = _{arg\\,max_{x}} \\Phi(\\frac{\\mu(x) - \\mu^+ - \\epsilon}{\\sigma(x)})$ where\n",
    "$\\Phi(.)$ indicates the CDF."
   ]
  },
  {
   "cell_type": "code",
   "execution_count": 28,
   "metadata": {},
   "outputs": [],
   "source": [
    "# Code is heavily borrowed from: https://modal-python.readthedocs.io/\n",
    "# en/latest/_modules/modAL/acquisition.html#max_PI\n",
    "class PI(ACQ):\n",
    "    def acq_fn(\n",
    "        self, gp, x, mu=5., eps=0.01, **kwargs):\n",
    "        \"\"\"\n",
    "        gp: sklearn.GPRegresssor\n",
    "        \"\"\"\n",
    "        y_pred, sigma = [t.flatten() for t in gp.predict(x)]\n",
    "        cdf = ndtr((y_pred - mu - eps)/sigma)\n",
    "        return cdf"
   ]
  },
  {
   "cell_type": "markdown",
   "metadata": {},
   "source": [
    "#### Intuition behind PI\n",
    "\n",
    "Below is a graph that helps to visualize how the PI values are calculated. We have calculated for 3 points `x in [0.10, 0.6, 4]`. We can see the CDF being shaded in the graphs below. Further, we can see if we increase `eps`, we implicitly place more importance to the uncertainty of a point. If `eps` is increased, the points with a larger sigma will benefit as their probability density is spread more. Thus points with more spread out sigma would have a higher value of cumulative density function on same $\\mu^+ + \\epsilon$."
   ]
  },
  {
   "cell_type": "code",
   "execution_count": 29,
   "metadata": {},
   "outputs": [],
   "source": [
    "import scipy.stats as stats"
   ]
  },
  {
   "cell_type": "code",
   "execution_count": 30,
   "metadata": {},
   "outputs": [],
   "source": [
    "# def gaussian(x, mu, sig):\n",
    "#     return np.exp(-np.power(x - mu, 2.) / (2 * np.power(sig, 2.)))\n",
    "\n",
    "# def pi_cdf_plot(gp, x, train_X, train_y, x_locs, val, epss=[0.1]):\n",
    "#     '''gp: trained gp\n",
    "#     x: all x pos\n",
    "#     train_X: locations sensed till now\n",
    "#     train_y: sensed functional values\n",
    "#     x_locs: points on x axis we would like to visualize pi values\n",
    "#     '''\n",
    "#     data = []\n",
    "#     for kk, eps in enumerate(epss):\n",
    "        \n",
    "#         fig, ax = plt.subplots(nrows=2, sharex=True, figsize=(14,10))\n",
    "#         plt.subplots_adjust(bottom=0.1, right=0.8, top=0.9)\n",
    "\n",
    "#         # PI Plot\n",
    "#         p = PI()\n",
    "#         gp = gp_creator(train_X, train_y, val)\n",
    "#         mu_plus = max(train_y) + eps\n",
    "#         pred = p(gp, x, mu=mu_plus, eps=eps)\n",
    "#         ax[0].plot(x, pred)\n",
    "#         ix = np.argmax(pred)\n",
    "#         ax[0].scatter(x[ix], pred[ix],\n",
    "#                       marker=\"*\", s = 300,\n",
    "#                       color='Orange', zorder=10,\n",
    "#                       label=r\"Max $\\alpha_{PI}(x)$\")\n",
    "#         ax[0].set_ylabel(r\"$\\alpha_{PI}$\")\n",
    "#         ax[0].set_xlabel(\"X\");\n",
    "#         ax[0].set_title(r\"PI with $\\epsilon$: \" + f\"{eps}\")\n",
    "#         colors = itertools.cycle(('g', 'r', 'c', 'm', 'y', 'k', 'w'))\n",
    "        \n",
    "#         for xloc in x_locs:\n",
    "#             ax[0].axvline(x = xloc, color=next(colors), lw=0.6, zorder=7, alpha=1)\n",
    "        \n",
    "#         colors = itertools.cycle(('g', 'r', 'c', 'm', 'y', 'k', 'w'))\n",
    "#         ax[0].set_yscale('log')\n",
    "#         # CDF plot\n",
    "#         # getting correpsonding indices\n",
    "#         locs = []\n",
    "#         for x_loc in x_locs:\n",
    "#             ix = np.argmin(abs(x - x_loc))\n",
    "#             locs.append(ix)\n",
    "\n",
    "#         # plotting GT\n",
    "#         ax[1].plot(x, f(x), color='purple', label=r'Ground Truth ($f$)')\n",
    "#         # plotting preds\n",
    "#         mu, sig = [t.flatten() for t in gp.predict(x)]\n",
    "#         ax[1].plot(x, mu, color='black', label=r'Predictions ($\\mu$)')\n",
    "#         ax[1].fill_between(x.flatten(), \n",
    "#                            mu + sig, mu - sig, \n",
    "#                            color='black', \n",
    "#                            alpha=alpha_plt,\n",
    "#                            label=r'$\\mu \\pm \\sigma$')\n",
    "#         # plotting mu_plus\n",
    "#         ax[1].plot(x, len(x)*[mu_plus], '-.b',\n",
    "#                  label=r'Max Detected $(f(x^+))$')\n",
    "\n",
    "#         gran = 200\n",
    "#         y_linspace = np.linspace(0, max(f(x).flatten()), gran)\n",
    "\n",
    "#         # finding where y_linspace meets mu_plus\n",
    "#         mu_plus_ix = np.argmin(abs(y_linspace - mu_plus))\n",
    "        \n",
    "#         saving_stuff = {\n",
    "#             'train_X': train_X.flatten().tolist(),\n",
    "#             'train_y': train_y.flatten().tolist(),\n",
    "#             'mu_plus': float(mu_plus),\n",
    "#             'mu': mu.flatten().tolist(),\n",
    "#             'sig': sig.flatten().tolist(),\n",
    "#             'x':x.flatten().tolist(),\n",
    "#             'alphaPI': pred.flatten().tolist(),\n",
    "#             'gt': f(x).flatten().tolist(),\n",
    "#         }\n",
    "        \n",
    "#         coll = []\n",
    "#         for i, loc in enumerate(locs):\n",
    "#             color = next(colors)\n",
    "#             x_linspace = stats.norm.pdf(y_linspace, mu[loc], sig[loc]) + x[loc]\n",
    "#             ax[1].plot(x_linspace, y_linspace, \n",
    "#                        color=color, alpha=0.8,\n",
    "#                        label=f'Gaussian PDF for {i}th Location')\n",
    "#             mu_line_part = np.array([mu_plus] * (gran - mu_plus_ix))\n",
    "#             ax[1].fill_between(x_linspace[mu_plus_ix:],\n",
    "#                              y_linspace[mu_plus_ix:],\n",
    "#                              mu_line_part.flatten(), color=color, alpha=alpha_plt)\n",
    "#             saving_stuff2 = {\n",
    "#                 'x_loc': float(x_locs[i]),\n",
    "#                 'loc': int(loc),\n",
    "#                 'mu_plus_ix': int(mu_plus_ix),\n",
    "#                 'x_linspace': x_linspace.flatten().tolist(),\n",
    "#                 'y_linspace': y_linspace.flatten().tolist(),\n",
    "#             }\n",
    "#             coll.append(saving_stuff2)\n",
    "#         saving_stuff['points'] = coll\n",
    "\n",
    "#         ax[1].set_xlabel(\"X Positions\")\n",
    "#         ax[1].set_ylabel(\"Gold Content\")\n",
    "#         ax[1].set_title(\"CDF (Shaded regions) for selected points\")\n",
    "#         ax[1].legend(loc='right')\n",
    "        \n",
    "#         format_axes(ax[0])\n",
    "#         format_axes(ax[1])\n",
    "#         dirName = 'MAB_pngs/pi_cdf'\n",
    "#         os.makedirs(dirName, exist_ok=True)\n",
    "#         plt.savefig(f\"{dirName}/{kk}.png\", bbox_inches=\"tight\", dpi=180)\n",
    "#         plt.close()\n",
    "#         fig.clear();\n",
    "#         data.append({\n",
    "#             'eps': eps,\n",
    "#             'store': saving_stuff,\n",
    "#         })\n",
    "#     return data"
   ]
  },
  {
   "cell_type": "code",
   "execution_count": 31,
   "metadata": {},
   "outputs": [],
   "source": [
    "nnsvm(plt.rcParams, -1)"
   ]
  },
  {
   "cell_type": "code",
   "execution_count": 32,
   "metadata": {},
   "outputs": [],
   "source": [
    "train_X = np.array([[.3], [2],[2.5], [3.7]])\n",
    "train_y = f(train_X)"
   ]
  },
  {
   "cell_type": "code",
   "execution_count": 33,
   "metadata": {
    "scrolled": false
   },
   "outputs": [],
   "source": [
    "# data = pi_cdf_plot(\n",
    "#     gp, x, train_X, train_y,\n",
    "#     x_locs=[1, 5],  val=val,\n",
    "#     epss=np.linspace(0, 1.5, 20)\n",
    "# )\n",
    "\n",
    "# !convert -delay {delay} -loop 0 MAB_pngs/pi_cdf/*.png {gifDir}/pi_cdf.gif"
   ]
  },
  {
   "cell_type": "code",
   "execution_count": 34,
   "metadata": {},
   "outputs": [],
   "source": [
    "# dirr = '../data'\n",
    "# os.makedirs(dirr, exist_ok=True)\n",
    "# with open(f'{dirr}/pi_cdf.json', 'w') as fp:\n",
    "#     json.dump(data, fp)"
   ]
  },
  {
   "cell_type": "markdown",
   "metadata": {},
   "source": [
    "![](MAB_gifs/pi_cdf.gif)\n",
    "`mu_plus` refers to the maximum functional value i.e., `max(train_y)`, where `train_y` refers to the gold content at the currently drilled locations. We see that the probability of improvement values are calculated by finding the functional value of the cumulative density function at `mu_plus`. The Gaussian parameters for each point are the mean and standard deviation predicted from Gaussian Process Regressor for that point.\n",
    "\n",
    "#### Hyperparameter: Eps\n",
    "Now we have the intuition behind how Probability of Improvement is calculated, now let's change `eps` and look at its effects."
   ]
  },
  {
   "cell_type": "code",
   "execution_count": 35,
   "metadata": {},
   "outputs": [],
   "source": [
    "train_X = np.atleast_2d([0.5]).T\n",
    "train_y = f(train_X).ravel()"
   ]
  },
  {
   "cell_type": "code",
   "execution_count": 36,
   "metadata": {},
   "outputs": [],
   "source": [
    "eps = 0.01\n",
    "acq_params = {\n",
    "    'eps': eps\n",
    "}\n",
    "\n",
    "dirName, mtn_pi = plot_acquisition(\n",
    "    train_X, train_y,\n",
    "    PI, val,\n",
    "    acq_params = acq_params,\n",
    "    ylim1=((-.05, 1.05)),\n",
    ")\n",
    "\n",
    "# gify\n",
    "# !convert -delay {delay} -loop 0 {dirName}/*.png {gifDir}/mab-gp-pi-eps{eps}.gif"
   ]
  },
  {
   "cell_type": "markdown",
   "metadata": {},
   "source": [
    "![](MAB_gifs/mab-gp-pi-eps0.01.gif)\n",
    "\n",
    "Looking at the graph above we can see that we are not effectively exploring at value `eps = 0.01` for the Probability of Improvement acquisition function. We are stuck."
   ]
  },
  {
   "cell_type": "code",
   "execution_count": 37,
   "metadata": {},
   "outputs": [],
   "source": [
    "eps = 0.3\n",
    "acq_params = {\n",
    "    'eps': eps\n",
    "}\n",
    "\n",
    "dirName, _ = plot_acquisition(\n",
    "    train_X, train_y,\n",
    "    PI, val,\n",
    "    acq_params = acq_params,\n",
    "    ylim1=((-.05, 1)),\n",
    "    y1scale='log'\n",
    ")\n",
    "\n",
    "# gify\n",
    "# !convert -delay {delay} -loop 0 {dirName}/*.png {gifDir}/mab-gp-pi-eps{eps}.gif"
   ]
  },
  {
   "cell_type": "markdown",
   "metadata": {},
   "source": [
    "![](MAB_gifs/mab-gp-pi-eps0.5.gif)\n",
    "\n",
    "Looking above, we see increasing the value to `eps = 0.5` enables us to explore more and get to the maximum value which we wanted in the case of Multi-arm bandit problem. One can notice that values at $x \\in [3, 4.5]$ posses uncertainty (can be identified by the grey translucent area, but as we remember we are not interested in getting the best prediction of the gold distribution, we only care about the maximum value that we can achieve, which this acquisition function with given hyper-parameters is able to capture nicely!\n",
    "\n",
    "Let's look at what happens if we increase the hyper-parameter `eps` a bit more."
   ]
  },
  {
   "cell_type": "code",
   "execution_count": 38,
   "metadata": {},
   "outputs": [],
   "source": [
    "eps = 3\n",
    "acq_params = {\n",
    "    'eps': eps\n",
    "}\n",
    "\n",
    "dirName, _ = plot_acquisition(\n",
    "    train_X, train_y,\n",
    "    PI, val,\n",
    "    acq_params = acq_params,\n",
    "    ylim1=((-.05, 1.05)),\n",
    "    y1scale='log'\n",
    ")\n",
    "\n",
    "# gify\n",
    "# !convert -delay {delay} -loop 0 {dirName}/*.png {gifDir}/mab-gp-pi-eps{eps}.gif"
   ]
  },
  {
   "cell_type": "markdown",
   "metadata": {},
   "source": [
    "![](MAB_gifs/mab-gp-pi-eps3.gif)\n",
    "\n",
    "We see that we made things worse! Our model now uses `eps = 3` which has effectively resulted in way too much exploratoration. This amount of exploration is not able to exploit when we land somewhere near a global maximum.\n",
    "\n",
    "----\n",
    "\n",
    "### Expected Improvement (EI)\n",
    "\n",
    "Probability of improvement only looked at `how likely` is an improvement, but, shouldn't we be looking into `how much` we can improve. The next criterion called Expected Improvement (EI). It looks into both :)\n",
    "\n",
    "\\begin{equation}\n",
    "    EI(x)=\n",
    "    \\begin{cases}\n",
    "      (\\mu(x) - \\mu^+ - \\epsilon)\\Phi(Z) + \\sigma(x)\\phi(Z), & \\text{if}\\ \\sigma(x) > 0 \\\\\n",
    "      0 & \\text{if}\\ \\sigma(x) = 0 \n",
    "    \\end{cases}\n",
    "  \\end{equation}\n",
    " $$Z= \\frac{\\mu(x) - \\mu^+ - \\epsilon}{\\sigma(x)}$$\n",
    " where $\\Phi(.)$ indicates CDF and $\\phi(.)$ indicates pdf\n",
    " \n",
    "\n",
    "We can see when our _Expected Improvement_ will be high.\n",
    "\n",
    "- It is high when the expected value of mean(x) - $\\mu^+$ is high.\n",
    "- It is high when the uncertainty around a point is high.\n",
    "\n",
    "Now, if we see the role of $\\epsilon$ in _Expected Improvement_, it is the exact same as the role played in the case of _Probability of Improvement_ (we have the same expression in PI). -- footnotes You can know more about EI from here (https://thuijskens.github.io/2016/12/29/bayesian-optimisation/)"
   ]
  },
  {
   "cell_type": "code",
   "execution_count": 39,
   "metadata": {},
   "outputs": [],
   "source": [
    "class EI(ACQ):\n",
    "    def acq_fn(self, gp, x, mu=5., eps=0.01, **kwargs):\n",
    "        \"\"\"\n",
    "        gp: sklearn.GPRegresssor\n",
    "        mu: max value of y among the selected train_pts\n",
    "        \"\"\"\n",
    "        y_pred, sigma = [t.flatten() for t in gp.predict(x)]\n",
    "        z = (y_pred - mu - eps)/sigma\n",
    "        return (y_pred - mu - eps)*ndtr(z) + sigma*norm.pdf(z)"
   ]
  },
  {
   "cell_type": "code",
   "execution_count": 40,
   "metadata": {
    "scrolled": true
   },
   "outputs": [],
   "source": [
    "# p = EI()\n",
    "# gp = gp_creator(train_X, train_y)\n",
    "# mu_plus = max(train_y)\n",
    "# plt.plot(x, 5*p(gp, x, mu=mu_plus, eps=0))\n",
    "# plt.ylabel(f\"{p}\")\n",
    "# plt.xlabel(\"X\");"
   ]
  },
  {
   "cell_type": "code",
   "execution_count": 41,
   "metadata": {
    "scrolled": true
   },
   "outputs": [],
   "source": [
    "# eps = 0\n",
    "# acq_params = {\n",
    "#     'eps': eps\n",
    "# }\n",
    "\n",
    "# dirName, _ = plot_acquisition(\n",
    "#     train_X, train_y,\n",
    "#     EI, val,\n",
    "#     acq_params=acq_params,\n",
    "#     ylim1=((-0.001, .3))\n",
    "# )\n",
    "\n",
    "# # gify!\n",
    "# # !convert -delay {delay} -loop 0 {dirName}/*.png {gifDir}/mab-gp-ei-eps{eps}.gif"
   ]
  },
  {
   "cell_type": "code",
   "execution_count": 42,
   "metadata": {},
   "outputs": [],
   "source": [
    "# EI()"
   ]
  },
  {
   "cell_type": "code",
   "execution_count": 43,
   "metadata": {},
   "outputs": [],
   "source": [
    "eps = 0.01\n",
    "acq_params = {\n",
    "    'eps': eps\n",
    "}\n",
    "\n",
    "dirName, mtn_ei = plot_acquisition(\n",
    "    train_X, train_y,\n",
    "    EI, val,\n",
    "    acq_params=acq_params,\n",
    "    ylim1=((-0.001, .3))\n",
    ")\n",
    "\n",
    "# gify!\n",
    "# !convert -delay {delay} -loop 0 {dirName}/*.png {gifDir}/mab-gp-ei-eps{eps}.gif"
   ]
  },
  {
   "cell_type": "markdown",
   "metadata": {},
   "source": [
    "![](MAB_gifs/mab-gp-ei-eps0.01.gif)\n",
    "\n",
    "Like the Probability of Improvement's acquisition function, we can moderate the amount of explorability the Expected Improvement's acquisition function by setting the `eps` hyper-parameter. \n",
    "\n",
    "We see that having `eps = 0.01` primarily results in exploitation, and we are not able to get to the global maxima due to this myopic drilling location selection.\n",
    "\n",
    "Let's try increasing the `eps` variable to focus a little more on exploribility."
   ]
  },
  {
   "cell_type": "code",
   "execution_count": 44,
   "metadata": {},
   "outputs": [],
   "source": [
    "# fig, ax = plt.subplots(nrows=2, sharex=True)\n",
    "# ax[0].plot(x, f(x))\n",
    "# ax[0].scatter([0.5], f(0.5))\n",
    "# ax[1].plot(np.linspace(0, 6, 600),ei)\n",
    "# ax[1].set_ylim((0, 0.35))"
   ]
  },
  {
   "cell_type": "code",
   "execution_count": 45,
   "metadata": {},
   "outputs": [],
   "source": [
    "eps = 0.3\n",
    "acq_params = {\n",
    "    'eps': eps\n",
    "}\n",
    "\n",
    "dirName, _ = plot_acquisition(\n",
    "    train_X, train_y,\n",
    "    EI,  val, \n",
    "    ylim1=((-0.001, .3)),\n",
    "    acq_params=acq_params,\n",
    ")\n",
    "\n",
    "# gify!\n",
    "# !convert -delay {delay} -loop 0 {dirName}/*.png {gifDir}/mab-gp-ei-eps{eps}.gif"
   ]
  },
  {
   "cell_type": "markdown",
   "metadata": {},
   "source": [
    "![](MAB_gifs/mab-gp-ei-eps1.5.gif)\n",
    "\n",
    "As we expected, increasing the value to `eps = 1.5` makes the acquisition function explore more and exploit when the time comes. We see that it moves slowly once it reaches near the global maxima, trying to find the global maxima. In this case, the exploration is effectively helping us reach a higher functional value much earlier!\n",
    "\n",
    "Let's see if increasing `eps` helps us more!"
   ]
  },
  {
   "cell_type": "code",
   "execution_count": 46,
   "metadata": {},
   "outputs": [],
   "source": [
    "eps = 3\n",
    "acq_params = {\n",
    "    'eps': eps\n",
    "}\n",
    "\n",
    "dirName, _ = plot_acquisition(\n",
    "    train_X, train_y,\n",
    "    EI,  val, ylim1=((-0.001, .05)),\n",
    "    acq_params=acq_params,\n",
    "    y1scale='log'\n",
    ")\n",
    "\n",
    "# gify!\n",
    "# !convert -delay {delay} -loop 0 {dirName}/*.png {gifDir}/mab-gp-ei-eps{eps}.gif"
   ]
  },
  {
   "cell_type": "markdown",
   "metadata": {},
   "source": [
    "![](MAB_gifs/mab-gp-ei-eps3.gif)\n",
    "\n",
    "Is this better than before? Turns out a yes and a no. We see that here we do too much exploration given the value of `eps = 3`. Which results in early reaching something close to global maxima, but unfortunately we don't exploit to get more gains near the global maxima. We would have liked an acquisition function that tried to exploit a bit more after reaching somewhere close to the global maxima. In essence:\n",
    "- reach near global maxima in a lower number of iterations\n",
    "- we don't exploit once we reach near global maxima\n",
    "\n",
    "---"
   ]
  },
  {
   "cell_type": "code",
   "execution_count": 47,
   "metadata": {},
   "outputs": [],
   "source": [
    "def ei_pi_plot(\n",
    "        train_X, train_y, i,  val,\n",
    "        ylim=None, xlim=None,\n",
    "        yscale='log', xscale='log',\n",
    "        seed = 2,\n",
    "        pi_params={}, ei_params={},\n",
    "    ):\n",
    "    np.random.seed(seed)\n",
    "    \n",
    "    fig, ax = plt.subplots()\n",
    "    ax.set_yscale(yscale)\n",
    "    ax.set_xscale(xscale)\n",
    "\n",
    "    # fitting\n",
    "    gp = gp_creator(train_X, train_y.flatten(),  val)\n",
    "\n",
    "    # for plotting scatter plot\n",
    "    pi_obj = PI()\n",
    "    ei_obj = EI()\n",
    "    pi_acq = pi_obj(gp, x, **pi_params, mu=max(train_y))\n",
    "    ei_acq = ei_obj(gp, x, **ei_params, mu=max(train_y))\n",
    "    \n",
    "    # predict on current pool set\n",
    "    y_pred, sigma = [t.flatten() for t in gp.predict(x)]\n",
    "    ax.scatter(pi_acq, ei_acq, color='black', alpha=0.4, label='Location')\n",
    "    ax.set_ylabel(r'$\\alpha_{EI}$')\n",
    "    ax.set_xlabel(r'$\\alpha_{PI}$')\n",
    "    \n",
    "    # limits\n",
    "    ax.set_ylim(ylim) if ylim is not None else None # ax.set_ylim(min(ei_acq), max(ei_acq)\n",
    "    ax.set_xlim(xlim) if xlim is not None else None # ax.set_xlim(min(pi_acq), max(pi_acq))\n",
    "    \n",
    "    ax.set_title(r'$\\epsilon_{PI} = $' + str(pi_params['eps']) + '\\n' \\\n",
    "                 r'$\\epsilon_{EI} = $' + str(ei_params['eps']))\n",
    "\n",
    "    ax.legend(bbox_to_anchor=(1.1,1), loc=\"upper left\")\n",
    "    format_axes(ax)\n",
    "    \n",
    "    pii = list(map(str, pi_params.values()))\n",
    "    eii = list(map(str, ei_params.values()))\n",
    "    params_str = '-'.join(pii + eii)\n",
    "    dirName = './MAB_gifs/Ei_Pi_graph/'\n",
    "    os.makedirs(dirName, exist_ok=True)\n",
    "    plt.savefig(f\"{dirName}/{i}.svg\", bbox_inches=\"tight\")\n",
    "    plt.close()\n",
    "    return (dirName)"
   ]
  },
  {
   "cell_type": "code",
   "execution_count": 48,
   "metadata": {},
   "outputs": [],
   "source": [
    "pi_eps = [0.01]#, 0.001, 0.01, 0.1, 1]\n",
    "ei_eps = [0.01]#, 0.001, 0.01, 0.1, 1]\n",
    "\n",
    "for i, (pi_ep, ei_ep) in enumerate(zip(pi_eps, ei_eps)):\n",
    "    pi_params = {'eps': pi_ep}\n",
    "    ei_params = {'eps': ei_ep}\n",
    "\n",
    "    dirName = ei_pi_plot(\n",
    "        train_X, train_y, i, val,\n",
    "        pi_params = pi_params,\n",
    "        ei_params = ei_params,\n",
    "        yscale='linear', xscale='linear',\n",
    "        ylim=None, xlim=(0, .5),\n",
    "    )\n",
    "\n",
    "# gify!\n",
    "# !convert -delay {delay} -loop 0 {dirName}/*.png {gifDir}/ei_pi_graph.gif"
   ]
  },
  {
   "cell_type": "markdown",
   "metadata": {},
   "source": [
    "We have seen two closely related methods, The _Probability of Improvement_ and the _Expected Improvement_. We can think of these two to be related to the ideas that we commonly are familiar with `risk` and `gain` respectively.\n",
    "\n",
    "It seems natural to see how these metrics change for each of the points. We have plotted the values for both policies' acquisition function's values below, for each of the possible locations. The graph shows the relation followed between EI and PI for when we have a single training point `(0.5 f(0.5))`. \n",
    "\n",
    "![](MAB_gifs/Ei_Pi_graph/0.svg)\n",
    "\n",
    "If we look closely, we can see if we have an equal estimated improvement as in the case with the points with `EI(x) = 0.4` it would be more beneficial to differentiate between these points which have a better value for Probability of Improvement. In other words, when `gain`s are the same, we should prioritize to choose the option with lesser `risk`. And similarly, when the `risk`s are similar, we would likely want to go with points with greater `gain`s.\n",
    "\n",
    "---\n",
    "\n",
    "### Gaussian Process Upper Confidence Bound (GP_UCB)\n",
    "\n",
    "GP_UCB is another formulation for acquisition function where we also have theoretical bounds on the number of iterations taken to reach near global maximum."
   ]
  },
  {
   "cell_type": "code",
   "execution_count": 49,
   "metadata": {},
   "outputs": [],
   "source": [
    "class GP_UCB(ACQ):\n",
    "    def acq_fn(self, gp, x, t, mu=5.,\n",
    "               v = 1., delta=1., **kwargs):\n",
    "        \"\"\"\n",
    "        gp: sklearn.GPRegresssor\n",
    "        t: Iteration number (1, ..)\n",
    "        \"\"\"\n",
    "        d = x.shape[1]\n",
    "        y_pred, sigma = [t.flatten() for t in gp.predict(x)]\n",
    "\n",
    "#         print (y_pred, sigma)\n",
    "#         print ('blah', np.log( (t**(d/2. + 2))*(np.pi**2)/(3. * delta)  ))\n",
    "#         print ('v3', v* (2*  np.log( (t**(d/2. + 2))*(np.pi**2)/(3. * delta)  )))\n",
    "        k = np.sqrt( v* (2*  np.log( (t**(d/2. + 2))*(np.pi**2)/(3. * delta)  )))\n",
    "#         print ('k', k)\n",
    "        return y_pred + k*sigma"
   ]
  },
  {
   "cell_type": "code",
   "execution_count": 50,
   "metadata": {},
   "outputs": [],
   "source": [
    "acq_params = {\n",
    "    'v': 1,\n",
    "    'delta': 1\n",
    "}\n",
    "\n",
    "dirName, mtn_gp_ucb = plot_acquisition(\n",
    "    train_X, train_y,\n",
    "    GP_UCB, val, ylim1=((0, 10)),\n",
    "    acq_params=acq_params,\n",
    ")\n",
    "\n",
    "# # gify!\n",
    "# !convert -delay {delay} -loop 0 {dirName}/*.png {gifDir}/mab-gp-gp_ucb1-1.gif"
   ]
  },
  {
   "cell_type": "markdown",
   "metadata": {},
   "source": [
    "![](MAB_gifs/mab-gp-gp_ucb1-1.gif)\n",
    "\n",
    "We seem to be exploiting too much , let's increase the exploratory hyperparameters!"
   ]
  },
  {
   "cell_type": "code",
   "execution_count": 51,
   "metadata": {},
   "outputs": [],
   "source": [
    "# acq_params = {\n",
    "#     'v': 3,\n",
    "#     'delta': 1\n",
    "# }\n",
    "\n",
    "# dirName, mtn_gp_ucb = plot_acquisition(\n",
    "#     train_X, train_y,\n",
    "#     GP_UCB, val, ylim1=((0, 10)),\n",
    "#     acq_params=acq_params,\n",
    "# )\n",
    "\n",
    "# # gify!\n",
    "# !convert -delay {delay} -loop 0 {dirName}/*.png {gifDir}/mab-gp-gp_ucb3-1.gif"
   ]
  },
  {
   "cell_type": "markdown",
   "metadata": {},
   "source": [
    "![](MAB_gifs/mab-gp-gp_ucb3-1.gif)\n",
    "\n",
    "Using this set of hyper-parameters, we are able to get near global maxima and further \"exploit\" to find the global maximum. This was a result of increasing the value of `v` to `3`; this shows that `v` gives weightage to exploration."
   ]
  },
  {
   "cell_type": "code",
   "execution_count": 52,
   "metadata": {},
   "outputs": [],
   "source": [
    "# acq_params = {\n",
    "#     'v': 1,\n",
    "#     'delta': 3\n",
    "# }\n",
    "\n",
    "# dirName, _ = plot_acquisition(\n",
    "#     train_X, train_y,\n",
    "#     GP_UCB, val, ylim1=((0, 10)),\n",
    "#     acq_params=acq_params,\n",
    "# )\n",
    "\n",
    "# # gify!\n",
    "# !convert -delay {delay} -loop 0 {dirName}/*.png {gifDir}/mab-gp-gp_ucb1-3.gif"
   ]
  },
  {
   "cell_type": "markdown",
   "metadata": {},
   "source": [
    "![](MAB_gifs/mab-gp-gp_ucb1-3.gif)\n",
    "\n",
    "Setting the values of the hyperparameters  to `v = 1` and `delta = 3` results a greater exploitation."
   ]
  },
  {
   "cell_type": "markdown",
   "metadata": {},
   "source": [
    "---\n",
    "\n",
    "### Thompson Sampling\n",
    "One more acquisition function that is quite common is Thompson Sampling. It has a low overhead of setting up.\n",
    "\n",
    "The idea is to sample functions within upper and lower probabilistic bounds of a regressor; one can then optimize on these functions and chose the next query point to be the $\\boldsymbol{x} = argmax(\\texttt{sampled_f})$. In other words, sampling functions within the greyed out area in the graph below.\n",
    "\n",
    "![](MAB_gifs/posterior.svg)\n",
    "\n",
    "Thompson Sampling is general enough to be useful even when we have Bernoulli (the domain of x is spatially independent) distributions modeling the function $F$, instead of Gaussian Process."
   ]
  },
  {
   "cell_type": "code",
   "execution_count": 53,
   "metadata": {},
   "outputs": [],
   "source": [
    "class Thompson(ACQ):\n",
    "    def acq_fn(self, gp, x, mu=5., eps=0.01, **kwargs):\n",
    "        \"\"\"\n",
    "        gp: sklearn.GPRegresssor\n",
    "        mu: max value of y among the selected train_pts\n",
    "        x: domain in which we are optimizing\n",
    "        \"\"\"\n",
    "        sampled_y = gp.posterior_samples_f(x, size=1)\n",
    "#         print(sampled_y.shape)\n",
    "        return sampled_y.flatten()"
   ]
  },
  {
   "cell_type": "code",
   "execution_count": null,
   "metadata": {},
   "outputs": [],
   "source": []
  },
  {
   "cell_type": "code",
   "execution_count": 54,
   "metadata": {},
   "outputs": [],
   "source": [
    "dirName, mtn_th = plot_acquisition(\n",
    "    train_X, train_y,\n",
    "    Thompson, val, ylim1=((0, 8.5)),\n",
    "    acq_params={'eps':0.01}\n",
    ")\n",
    "\n",
    "# gify!\n",
    "# !convert -delay {delay} -loop 0 {dirName}/*.png {gifDir}/mab-gp-thomp.gif"
   ]
  },
  {
   "cell_type": "markdown",
   "metadata": {},
   "source": [
    "![](MAB_gifs/mab-gp-thomp.gif)\n",
    "\n",
    "---\n",
    "\n",
    "### Probability of Improvement + $\\lambda \\  \\times$ Expected Improvement (EI_PI)\n",
    "\n",
    "Below we have tried to combine PI and EI using a linear combination as a combination of various acquisition function also results in an acquisition function. We can, therefore, combine any of the acquisition function and form a new one."
   ]
  },
  {
   "cell_type": "code",
   "execution_count": 55,
   "metadata": {},
   "outputs": [],
   "source": [
    "class EI_PI(ACQ):\n",
    "    def acq_fn(self, gp, x, mu=5., eps_pi=0.01, eps_ei=0.01, lam=.3, **kwargs):\n",
    "        \"\"\"\n",
    "        gp: sklearn.GPRegresssor\n",
    "        \"\"\"\n",
    "        y_pred, sigma = [t.flatten() for t in gp.predict(x)]\n",
    "        \n",
    "        # ei\n",
    "        z = (y_pred - mu - eps_ei)/sigma\n",
    "        ei_acq = (y_pred - mu - eps_ei)*ndtr(z) + sigma*norm.pdf(z)\n",
    "        \n",
    "        # pi\n",
    "        pi_acq = ndtr((y_pred - mu - eps_pi)/sigma)\n",
    "        return pi_acq + lam * ei_acq"
   ]
  },
  {
   "cell_type": "markdown",
   "metadata": {},
   "source": [
    "### Comparison\n",
    "\n",
    "Below we have a graph showing a comparison between the methods discussed above. We have chosen the hyper-parameters that gave us the best performance during our basic hyper-parameter search.\n",
    "\n",
    "We see the _Random_ method is able to find the maximum much before any of the other methods, this can be seen when we are faced with smaller spaces to find the global maximum. If we have more dimensions to `x`, searching in this space would not be so easy using random, due to what we call the curse of dimensionality."
   ]
  },
  {
   "cell_type": "code",
   "execution_count": 56,
   "metadata": {},
   "outputs": [],
   "source": [
    "nnsvm(plt.rcParams, 4)"
   ]
  },
  {
   "cell_type": "code",
   "execution_count": 57,
   "metadata": {
    "scrolled": false
   },
   "outputs": [
    {
     "data": {
      "image/png": "[encoded data removed]",
      "text/plain": [
       "<Figure size 1008x576 with 1 Axes>"
      ]
     },
     "metadata": {
      "needs_background": "light"
     },
     "output_type": "display_data"
    }
   ],
   "source": [
    "mtns = [mtn_rand, mtn_acq, mtn_pi, mtn_ei, mtn_th, mtn_gp_ucb]\n",
    "names = ['Random', 'UCB', 'PI', 'EI', 'Thompson', 'GP-UCB']\n",
    "markers = ['o-', 'v--', '^-', '<:', '>-.', '8:']\n",
    "\n",
    "xx = range(len(mtns[0]))\n",
    "plt.figure(figsize=(14, 8))\n",
    "for n, m, mm in zip(names, mtns, markers):\n",
    "    plt.plot(xx, m, mm, label=n, alpha=0.7, lw=2.7)\n",
    "\n",
    "plt.fill_between(range(len(mtns[0])), mtn_rand + rand_sig,\n",
    "                 mtn_rand - rand_sig, \n",
    "                 color='c', alpha=0.2)\n",
    "\n",
    "plt.legend()\n",
    "plt.xlabel('# of Drilled Sites')\n",
    "plt.ylabel('Max Gold Sensed')\n",
    "plt.title('Comparison of different Acquisition Functions on Gold Mining task')\n",
    "format_axes(plt.gca())\n",
    "plt.savefig(\"MAB_gifs/comp.svg\", bbox_inches=\"tight\")\n",
    "plt.show()"
   ]
  },
  {
   "cell_type": "markdown",
   "metadata": {},
   "source": [
    "![](MAB_gifs/comp.svg)\n",
    "\n",
    "## Observation\n",
    "\n",
    "We see that the plots above show the maximum gold content detected for the case of multi-arm bandit problem vs. the number of holes drilled. Looking at the graph above we can see that for our problem Probability of Improvement performed the best among all the variants of Acquisition functions."
   ]
  },
  {
   "cell_type": "markdown",
   "metadata": {},
   "source": [
    "# Generalization\n",
    "Let us now formally introduce Bayesian Optimization. Our goal is to find the $\\boldsymbol{x}$ where we reached global maximum (or minimum) of a function $F: \\mathbb{R}^d \\texttt{ -> } \\mathbb{R}$. Constraints in Bayesian Optimization look like below. -- footnotes Slides link to Peter Fraizer\n",
    "\n",
    "> We’d like to optimize $F: \\mathbb{R}^d \\texttt{ -> } \\mathbb{R}$,\n",
    "where $d < 20$.<br>\n",
    ">\n",
    ">• $F$’s feasible set $A$ is simple,\n",
    "e.g., box constraints.<br>\n",
    "• $F$ is continuous but lacks special structure,\n",
    "e.g., concavity, that would make it easy to optimize.<br>\n",
    "• $F$ is derivative-free:\n",
    "evaluations do not give gradient information.<br>\n",
    "• $F$ is expensive to evaluate:\n",
    "the # of times we can evaluate it\n",
    "is severely limited.<br>\n",
    "• $F$ may be noisy. If noise is present, we’ll assume it\n",
    "is independent and normally distributed, with\n",
    "common but unknown variance.<br>\n",
    "\n",
    "Let us link the above constraints to our initial problem statement of gold mining.\n",
    "\n",
    "- Our domain in the gold mining problem is a single dimensional box constraint of $0 \\leq x \\leq 6$.\n",
    "- Our ground truth can be seen as _not_ convex or concave function, which resulted in local minima as well.\n",
    "- Our evaluation (by drilling) of the amount of gold content at a location didn't give us any gradient information.\n",
    "- The function we used in the case of Gold Mining problem is extremely costly to evaluate (drilling costs millions).\n",
    "- This constraint is still satisfied in our case as we had used 0 noise, or zero mean zero std gaussian noise."
   ]
  },
  {
   "cell_type": "markdown",
   "metadata": {},
   "source": [
    "# Higher Dimensions\n",
    "\n",
    "For now we have been looking at real-valued single dimensional function, i.e. $f: \\mathbb{R} \\texttt{ -> } \\mathbb{R}$ data where we needed to find the value of $\\boldsymbol{x}$ where we reached global maximum. Let's move on and try to tackle real-valued functions of $n$ real variables functions, i.e. $f: \\mathbb{R}^n \\texttt{ -> } \\mathbb{R}$. We will soon see that our methods that we saw earlier for the single dimensional case can be easily ported to multi-variable functions.\n",
    "\n",
    "## Why is this easier?\n",
    "One valid question one might come up is that we have replaced the original optimization problem to another optimization problem (optimization of acquisition function). How is this any better than the last problem. The main reason is that evaluating the acquisition function is much cheaper, whereas in the original problem, evaluating the value at a particular was extremely costly.\n",
    "\n",
    "## Bayesian Optimization vs. Gradient Descent\n",
    "Some of the main differences between BO and GD --cite BOvsGD as pointed out at StackExchange:\n",
    " - The biggest difference between Bayesian Optimization and Gradient Descent is that in the latter case, we have access to the gradient values.\n",
    " - BO doesn't assume the function to be convex, in the case of Gradient Descent if you would like to get to the global minima, your function should be convex.\n",
    " - BO assumes the function we are optimizing is fairly smooth.\n",
    " - BO doesn't scale well with large data, as the GP inference is cubic in the number of points.\n",
    " \n",
    "Now, as we have described BO more technically, let's have a look at how we can use this method in the case of Hyperparameter Tuning. Hyperparameters, you ask?\n",
    "\n",
    "## Hyperparameters v/s Parameters\n",
    "\n",
    "We all are familiar with Machine Learning and the models that we use. To show one of the use cases for Bayesian optimization, we will quickly differentiate between hyperparameters and parameters. \n",
    "\n",
    "Hyperparameters is a parameter whose value is set before the learning process begins. Parameters, on the other hand, are the parameters that are learned looking at the data. One small example that we can think of can be of linear regression, we don't really have hyperparameters, but the parameters are the $W$: weight, $c$: intercept, which is learned from the data. If we apply lasso to linear regression, we introduce a regularization hyperparameter $\\lambda$. -- footnotes Wikipedia article\n",
    "\n",
    "## Hyperparameter Search\n",
    "\n",
    "Now as we are clear on the difference between hyperparameters and parameters we would like to introduce one of the most common use case of Bayesian Optimization; _Hyperparameter Tuning_: finding best performing hyperparameters on machine learning models. At last, hyperparameter searching is an optimization problem (optimizing our score).\n",
    "\n",
    "Usually, when training a model isn't expensive and time-consuming, we might just do a grid search or random search. The main issues faced when using these methods are as follows:\n",
    "\n",
    "- Grid Search is not feasible if getting the functional value is extremely costly, as in case of a large neural network that takes days to train. This might result in days of waiting to get the accuracy scores.\n",
    "- Random and Grid Search are near brute-force methods; this causes these methods to become extremely inefficient and impossible to use when the dimensions of our search space increase (aka the curse of dimensionality). You can get the intuition for _the curse of dimentionality_ from [this](https://stats.stackexchange.com/a/169170) excellent answer on stackoverflow.com\n",
    "  > in essence when you have more dimensions you need exponentially more samples to be able to estimate the real-valued multivariable function.\n",
    "\n",
    "We turn to Bayesian optimization to find counter the expensiveness of getting the functional values, and these increased dimensions."
   ]
  },
  {
   "cell_type": "markdown",
   "metadata": {},
   "source": [
    "### Example 1\n",
    "\n",
    "Let's us use a SVM on sklearn's moons dataset and try to find the optimal hyperparameter using bayesian optimization. Let's have a look at the dataset first."
   ]
  },
  {
   "cell_type": "code",
   "execution_count": 58,
   "metadata": {},
   "outputs": [],
   "source": [
    "from sklearn.datasets import make_moons\n",
    "from sklearn.svm import SVC\n",
    "import matplotlib as mpl\n",
    "from sklearn.model_selection import train_test_split"
   ]
  },
  {
   "cell_type": "code",
   "execution_count": 59,
   "metadata": {},
   "outputs": [
    {
     "data": {
      "image/png": "[encoded data removed]",
      "text/plain": [
       "<Figure size 432x288 with 1 Axes>"
      ]
     },
     "metadata": {
      "needs_background": "light"
     },
     "output_type": "display_data"
    }
   ],
   "source": [
    "nnsvm(plt.rcParams, -2)\n",
    "uplow = (.40, .85)\n",
    "seed = 0\n",
    "X, y = make_moons(n_samples=500, shuffle=True, noise=1, random_state=seed)\n",
    "X_train, X_test, y_train, y_test = train_test_split(X, y, test_size=0.2, random_state=seed)\n",
    "\n",
    "mask = (y == 1)\n",
    "plt.scatter(X[mask][:, 0], X[mask][:, 1], label=\"Class A\")\n",
    "mask = (y == 0)\n",
    "plt.scatter(X[mask][:, 0], X[mask][:, 1], label=\"Class B\")\n",
    "plt.legend(loc='top right')\n",
    "plt.xlabel(\"X0\")\n",
    "plt.title('Moons Dataset')\n",
    "plt.ylabel(\"X1\")\n",
    "plt.savefig(\"MAB_gifs/moons.svg\", bbox_inches=\"tight\")\n",
    "plt.show()"
   ]
  },
  {
   "cell_type": "code",
   "execution_count": 60,
   "metadata": {},
   "outputs": [],
   "source": [
    "def f(Listofpoints, seed=0):\n",
    "    '''Given a grid of hyperparameters we fit the SVM and return\n",
    "    the negative of validation error (we are aiming to minimize error)'''\n",
    "    Listofpoints = np.array(Listofpoints)\n",
    "    Gammas, Cs = Listofpoints[:, 0], Listofpoints[:, 1]\n",
    "    Gammas = np.array(Gammas)\n",
    "    Cs = np.array(Cs)\n",
    "    shpe = Gammas.shape\n",
    "    assert (Gammas.shape == Cs.shape)\n",
    "    accs = []\n",
    "    for gamma, C in zip(Gammas.flatten(), Cs.flatten()):\n",
    "        clf = SVC(gamma=10**(gamma), C=C, random_state=seed)\n",
    "        clf.fit(X_train, y_train)\n",
    "        pred_y = clf.predict(X_test)\n",
    "        mask = (pred_y == y_test)\n",
    "        acc = mask.sum()/mask.shape[0]\n",
    "        accs.append(acc)\n",
    "    return np.array(accs).reshape(shpe)"
   ]
  },
  {
   "cell_type": "code",
   "execution_count": 61,
   "metadata": {
    "scrolled": true
   },
   "outputs": [
    {
     "name": "stdout",
     "output_type": "stream",
     "text": [
      "x.shape: (625, 2)\n",
      "GT.shape: (25, 25)\n"
     ]
    }
   ],
   "source": [
    "x0 = np.linspace(-6, 3, 25) # gammas\n",
    "x1 = np.linspace(0.01, 9, 25) # Cs\n",
    "\n",
    "x = np.array(list(itertools.product(x0, x1)))\n",
    "print ('x.shape:', x.shape)\n",
    "\n",
    "X0, X1 = np.meshgrid(x0, x1)\n",
    "xx = np.vstack([X0.reshape(X0.size), X1.reshape(X1.size)]).T\n",
    "\n",
    "GT = f(x)\n",
    "GT = GT.reshape(X0.shape)\n",
    "print('GT.shape:', GT.shape)"
   ]
  },
  {
   "cell_type": "code",
   "execution_count": 62,
   "metadata": {},
   "outputs": [],
   "source": [
    "# kernel = Matern(length_scale=1.0)\n",
    "# gp = GaussianProcessRegressor(kernel=kernel, normalize_y=True)"
   ]
  },
  {
   "cell_type": "code",
   "execution_count": 63,
   "metadata": {},
   "outputs": [],
   "source": [
    "def getPoints(a, b):\n",
    "    '''Returns points in meshgrid'''\n",
    "    pts = np.concatenate([a.flatten().reshape(-1, 1), \n",
    "                          b.flatten().reshape(-1, 1)], \n",
    "                         axis=1)\n",
    "    return pts"
   ]
  },
  {
   "cell_type": "code",
   "execution_count": 64,
   "metadata": {},
   "outputs": [],
   "source": [
    "nnsvm(plt.rcParams, 4)"
   ]
  },
  {
   "cell_type": "code",
   "execution_count": 65,
   "metadata": {},
   "outputs": [],
   "source": [
    "from matplotlib.markers import MarkerStyle"
   ]
  },
  {
   "cell_type": "code",
   "execution_count": 67,
   "metadata": {},
   "outputs": [],
   "source": [
    "# https://matplotlib.org/3.1.1/gallery/ticks_and_spines/colorbar_tick_labelling_demo.html\n",
    "import sys\n",
    "from copy import deepcopy\n",
    "\n",
    "def plot_acquisition3d(\n",
    "        acq_class, mean_fn, \n",
    "        acq_params={},\n",
    "        z0lim = (.50, 1.00),\n",
    "        it = 10, \n",
    "        seed = 0,\n",
    "        svm=False,\n",
    "        gran = 16,\n",
    "    ):\n",
    "    # init svm or rf\n",
    "    train_X = np.array([[5, 5]]) # gamma = 5, C = 10\n",
    "    train_y = f(train_X)\n",
    "    \n",
    "    \"\"\"acq_params would contain the parameters for our acq_fn\"\"\"\n",
    "    np.random.seed(seed)\n",
    "    # for storing the max till it iters\n",
    "    max_till_now = []\n",
    "    max_ix = np.argmax(GT.flatten())\n",
    "    max_x = X0.flatten()[max_ix], X1.flatten()[max_ix]\n",
    "    \n",
    "    save = {}\n",
    "    \n",
    "    # Saving stuff\n",
    "    z1lim = [sys.maxsize, - sys.maxsize]\n",
    "    for i in range(it):\n",
    "        # fitting\n",
    "        gp = gp_creator(train_X, train_y, val = mean_fn)\n",
    "        \n",
    "        acq_obj = acq_class()\n",
    "        acquisition = acq_obj(\n",
    "            gp, \n",
    "            xx, \n",
    "            t=i+1,\n",
    "            **acq_params, \n",
    "            mu=max(train_y)\n",
    "        )\n",
    "        \n",
    "        save[i] = {\n",
    "            'train_X': deepcopy(train_X),\n",
    "            'acquisition': deepcopy(acquisition),\n",
    "            'train_y': deepcopy(train_y),\n",
    "        }\n",
    "        \n",
    "        # Choose the next point with highest acq\n",
    "        max_mu = max(train_y.flatten())\n",
    "        max_till_now.append(max_mu)\n",
    "        next_ix = rargmax(acquisition.flatten())\n",
    "        n_x = X0.flatten()[next_ix], X1.flatten()[next_ix]\n",
    "\n",
    "        # Add new point with highest uncertainty to the pool set\n",
    "        train_X = np.vstack([train_X, [*n_x]])\n",
    "        train_y = f(train_X)\n",
    "        \n",
    "        save[i].update({\n",
    "            'n_x': deepcopy(n_x),            \n",
    "        })\n",
    "        \n",
    "        z1lim[0] = min(z1lim[0], min(acquisition))\n",
    "        z1lim[1] = max(z1lim[1], max(acquisition))  \n",
    "    \n",
    "    for i in range(it):\n",
    "        # getting things\n",
    "        train_X = save[i]['train_X']\n",
    "        acquisition = save[i]['acquisition']\n",
    "        train_y = save[i]['train_y']\n",
    "        n_x = save[i]['n_x']\n",
    "        \n",
    "        fig, ax = plt.subplots(ncols=2, figsize=(16, 6))\n",
    "        \n",
    "        for a in ax:\n",
    "            a.set_aspect('equal')\n",
    "        \n",
    "        ax[0].set_ylim(min(x[:, 1]), max(x[:, 1])) # C\n",
    "        ax[0].set_xlim(min(x[:, 0]), max(x[:, 0])) # gamma\n",
    "        ax[1].set_ylim(min(x[:, 1]), max(x[:, 1]))\n",
    "        ax[1].set_xlim(min(x[:, 0]), max(x[:, 0]))\n",
    "        \n",
    "        # plot ground truth\n",
    "        levels1 = ticks1 = np.linspace(*z0lim, gran)\n",
    "        h = ax[0].contourf(\n",
    "            X0, X1, GT, cmap='viridis', \n",
    "            levels=levels1, \n",
    "            vmin=z0lim[0], \n",
    "            vmax=z0lim[1]\n",
    "        )\n",
    "        plt.colorbar(\n",
    "            h, \n",
    "            ticks=ticks1,\n",
    "            ax=ax[0]\n",
    "        )\n",
    "        \n",
    "        # plot current training set\n",
    "        ax[0].scatter(\n",
    "            train_X[:, 0],\n",
    "            train_X[:, 1],\n",
    "            facecolors='none', \n",
    "            edgecolors='k',\n",
    "            linewidth=4,\n",
    "            s=100,\n",
    "            zorder=10,\n",
    "            label='Training points'\n",
    "        )\n",
    "        # plot the global maxima\n",
    "        ax[0].scatter(\n",
    "            *max_x,\n",
    "            marker=\"*\", \n",
    "            color='gold',\n",
    "            s=300,\n",
    "            zorder=20,\n",
    "            label=\"Gobal Maxima\"\n",
    "        )\n",
    "        \n",
    "        levels2 = ticks2 = list(np.linspace(*z1lim, gran))\n",
    "        h2 = ax[1].contourf(\n",
    "            X0, X1, \n",
    "            acquisition.reshape(X0.shape), \n",
    "            cmap='viridis', \n",
    "            levels=levels2, \n",
    "            vmin=z1lim[0],\n",
    "            vmax=z1lim[1],\n",
    "        )\n",
    "        # colorbar 1\n",
    "        cbar = fig.colorbar(\n",
    "            h2,\n",
    "            ticks=ticks2,\n",
    "            ax=ax[1]\n",
    "        )\n",
    "        ax[1].set_title(f\"Acquisition Function ({str(acq_obj)})\")\n",
    "        fig.suptitle(f\"Iteration: {i}\", fontsize='x-large')\n",
    "            \n",
    "        if svm:\n",
    "            ax[1].set_xlabel(r\"Hyperparam #1 ($\\log_{10}\\gamma$)\")\n",
    "            ax[1].set_ylabel(r\"Hyperparam #2 $(C)$\")\n",
    "            ax[0].set_xlabel(r\"Hyperparam #1 ($\\log_{10}\\gamma$)\")\n",
    "            ax[0].set_ylabel(r\"Hyperparam #2 $(C)$\")\n",
    "        else:\n",
    "            ax[1].set_xlabel(\"Hyperparam #1 (# of Trees)\")\n",
    "            ax[1].set_ylabel(\"Hyperparam #2 (Max Depth)\")\n",
    "            ax[0].set_xlabel(\"Hyperparam #1 (# of Trees)\")\n",
    "            ax[0].set_ylabel(\"Hyperparam #2 (Max Depth)\")\n",
    "\n",
    "        # Add new point with highest uncertainty to the pool set\n",
    "        ax[1].scatter(\n",
    "            *n_x, \n",
    "            marker='+',\n",
    "            s=200,\n",
    "            c='blue',\n",
    "            zorder=10,\n",
    "            label='Maxima'\n",
    "        )\n",
    "        ax[0].scatter(*n_x, color='red',\n",
    "                      s=200, zorder=1, label='Query Point')\n",
    "        ax[0].axvline(n_x[0], color='black', lw=1, zorder=1)\n",
    "        ax[0].axhline(n_x[1], color='black', lw=1, zorder=1)\n",
    "        ax[1].axvline(n_x[0], color='black', lw=1, zorder=1)\n",
    "        ax[1].axhline(n_x[1], color='black', lw=1, zorder=1)\n",
    "        ax[0].set_title(\"Accuracy\")\n",
    "        \n",
    "        # https://stackoverflow.com/questions/4700614/how-to-put-the-legend-out-of-the-plot\n",
    "        for a in ax:\n",
    "            box = a.get_position()\n",
    "            a.set_position([box.x0, box.y0 + box.height * 0.02,\n",
    "                             box.width, box.height * 0.9])\n",
    "\n",
    "            # Put a legend below current axis\n",
    "            a.legend(loc='upper center', bbox_to_anchor=(0.5, -0.15),\n",
    "                      fancybox=True, shadow=True, ncol=5)\n",
    "        acq_params_str = '-'.join(\n",
    "            list(map(str, acq_params.values()))\n",
    "        )\n",
    "        if svm:\n",
    "            lala = ''\n",
    "        else:\n",
    "            lala = 'RF'\n",
    "        dirName = './MAB_pngs/'+lala+str(acq_obj)+'3d/'+acq_params_str\n",
    "        os.makedirs(dirName, exist_ok=True)\n",
    "        plt.savefig(\n",
    "            f\"{dirName}/{i}.png\",\n",
    "            bbox_inches=\"tight\", \n",
    "        )\n",
    "        fig.clear();\n",
    "        plt.close()\n",
    "    return dirName, max_till_now"
   ]
  },
  {
   "cell_type": "markdown",
   "metadata": {},
   "source": [
    "Let us now show the some plots showing Bayesian Optimization for learning nice hyperparameters for our Support Vector Machine model. -- footnotes Note: the surface plots you see for the ground truth accuracies were calculated for each possible of hyperparameter for showcasing purposes."
   ]
  },
  {
   "cell_type": "code",
   "execution_count": 68,
   "metadata": {
    "scrolled": false
   },
   "outputs": [],
   "source": [
    "eps = 0.05\n",
    "acq_params = {'eps':eps}\n",
    "dirName, mtn_pi = plot_acquisition3d(\n",
    "    PI, mean_fn = 0.65, \n",
    "    acq_params=acq_params,\n",
    "    z0lim=uplow,\n",
    "    it=10, svm=True\n",
    ")\n",
    "\n",
    "# gify!\n",
    "# !convert -delay {delay} -loop 0 {dirName}/*.png {gifDir}/pi3d-{eps}-mat.gif"
   ]
  },
  {
   "cell_type": "markdown",
   "metadata": {},
   "source": [
    "![](MAB_gifs/pi3d-0.05-mat.gif)\n",
    "\n",
    "Above we see a gif showing the work of teh _Probability of Improvement_ acquisition function in finding the best hyperparameters."
   ]
  },
  {
   "cell_type": "code",
   "execution_count": 69,
   "metadata": {},
   "outputs": [],
   "source": [
    "eps = 0.01\n",
    "acq_params = {'eps':eps}\n",
    "dirName, mtn_ei = plot_acquisition3d(\n",
    "    EI, mean_fn = 0.65, \n",
    "    acq_params=acq_params,\n",
    "    z0lim=uplow,\n",
    "    it=10, svm=True\n",
    ")\n",
    "# gify!\n",
    "# !convert -delay {delay} -loop 0 {dirName}/*.png {gifDir}/ei3d-{eps}-mat.gif"
   ]
  },
  {
   "cell_type": "markdown",
   "metadata": {},
   "source": [
    "![](MAB_gifs/ei3d-0.0001-mat.gif)\n",
    "\n",
    "Above we see a gif showing the work of teh _Expected Improvement_ acquisition function in finding the best hyperparameters."
   ]
  },
  {
   "cell_type": "code",
   "execution_count": 70,
   "metadata": {
    "scrolled": true
   },
   "outputs": [],
   "source": [
    "v = 1\n",
    "delta = 2\n",
    "acq_params = {\n",
    "    'v':v,\n",
    "    'delta':delta\n",
    "}\n",
    "dirName, mtn_gp_ucb = plot_acquisition3d(\n",
    "    GP_UCB, mean_fn = 0.65, \n",
    "    acq_params=acq_params,\n",
    "    z0lim=uplow,\n",
    "    it=10, svm=True\n",
    ")\n",
    "\n",
    "# gify!\n",
    "# !convert -delay {delay} -loop 0 {dirName}/*.png {gifDir}/gp3d-1-2-mat.gif"
   ]
  },
  {
   "cell_type": "markdown",
   "metadata": {},
   "source": [
    "![](MAB_gifs/gp3d-1-2-mat.gif)\n",
    "\n",
    "Above we see a gif showing the work of the _Guassian Processes Upper Confidence Bound_ acquisition function in finding the best hyperparameters. This by far seems to perform the best with getting quite close to the global optimum value of hyperparameters (found using brute force)."
   ]
  },
  {
   "cell_type": "code",
   "execution_count": 71,
   "metadata": {},
   "outputs": [],
   "source": [
    "stats = RunningStat(len(mtn_gp_ucb))\n",
    "for seed in range(10):\n",
    "    dirName, temp = plot_acquisition3d(\n",
    "        Rand, mean_fn = 0.65, \n",
    "        acq_params=acq_params,\n",
    "        z0lim=uplow,\n",
    "        seed=seed,\n",
    "        it=10, svm=True\n",
    "    )\n",
    "    stats.push(temp)\n",
    "\n",
    "mtn_rand = stats.mean\n",
    "rand_sig = stats.std\n",
    "\n",
    "# gify!\n",
    "# !convert -delay {delay} -loop 0 {dirName}/*.png {gifDir}/rand3d.gif"
   ]
  },
  {
   "cell_type": "markdown",
   "metadata": {},
   "source": [
    "![](MAB_gifs/rand3d.gif)\n",
    "\n",
    "Now our favourite random acquisition function. :)"
   ]
  },
  {
   "cell_type": "code",
   "execution_count": 72,
   "metadata": {},
   "outputs": [],
   "source": [
    "nnsvm(plt.rcParams, 4)\n",
    "max_f = np.max(GT.flatten())\n",
    "globalopt = [max_f] * len(mtn_rand)\n",
    "\n",
    "mtns = [mtn_rand, globalopt, mtn_pi, mtn_ei, mtn_gp_ucb]\n",
    "names = ['Random', 'GlobalOpt', 'Probability of Improvement', 'Expected Improvement', 'GP-UCB']\n",
    "markers = ['o-', '*:', 'v--', '>-.', '<:']\n",
    "\n",
    "xx = range(len(mtns[0]))\n",
    "plt.figure(figsize=(14, 8))\n",
    "for n, m, mm in zip(names, mtns, markers):\n",
    "    plt.plot(xx, m, mm, label=n, alpha=0.7, lw=2.7)\n",
    "\n",
    "plt.fill_between(range(len(mtns[0])), mtn_rand + rand_sig,\n",
    "                 mtn_rand - rand_sig, \n",
    "                 color='c', alpha=0.2)\n",
    "plt.legend()\n",
    "plt.xlabel('# of Evaluations')\n",
    "plt.ylabel('Max Accuracy Reached')\n",
    "plt.title('Comparison of different Acquisition Functions')\n",
    "format_axes(plt.gca())\n",
    "plt.savefig(\"MAB_gifs/comp3d.svg\", bbox_inches=\"tight\")\n",
    "plt.close()"
   ]
  },
  {
   "cell_type": "markdown",
   "metadata": {},
   "source": [
    "![](MAB_gifs/comp3d.svg)\n",
    "\n",
    "We see GP-UCB performed the best in this case. Random that was performing really nice in the last single dimensional example seems to perform much badly in this case. This can be attributed to the increase in the number of dimensions, it's much difficult to get to the optimal value by using random search."
   ]
  },
  {
   "cell_type": "markdown",
   "metadata": {},
   "source": [
    "### Example 2\n",
    "\n",
    "Let's train CNNs on Mnist. Here we will be using `scikit-optim`, which also provides us support for optimizing our function on a mix of categorical, integral, and real variables. We won't be plotting the ground truth here, as it's extremely costly to do so."
   ]
  },
  {
   "cell_type": "code",
   "execution_count": 73,
   "metadata": {},
   "outputs": [],
   "source": [
    "# # getting the data\n",
    "# import torchvision\n",
    "# import torchvision.datasets as datasets\n",
    "# mnist_trainset = datasets.MNIST(root='./data', train=True, download=True, transform=None)\n",
    "\n",
    "# # exmaple from https://github.com/pytorch/examples/blob/master/mnist/main.py\n",
    "# from __future__ import print_function\n",
    "# import argparse\n",
    "# import torch\n",
    "# import torch.nn as nn\n",
    "# import torch.nn.functional as F\n",
    "# import torch.optim as optim\n",
    "# from torchvision import datasets, transforms\n",
    "\n",
    "\n",
    "# class Net(nn.Module):\n",
    "#     def __init__(self, activation):\n",
    "#         super(Net, self).__init__()\n",
    "#         self.conv1 = nn.Conv2d(1, 10, 5, 1)\n",
    "#         self.conv2 = nn.Conv2d(10, 50, 5, 1)\n",
    "#         self.fc1 = nn.Linear(4*4*50, 64)\n",
    "#         self.fc2 = nn.Linear(64, 10)\n",
    "#         if activation == 'relu':\n",
    "#             self.activations = F.relu\n",
    "#         else: # softmax\n",
    "#             self.activations = F.softmax\n",
    "\n",
    "#     def forward(self, x):\n",
    "#         x = self.activations(self.conv1(x))\n",
    "#         x = F.max_pool2d(x, 2, 2)\n",
    "#         x = self.activations(self.conv2(x))\n",
    "#         x = F.max_pool2d(x, 2, 2)\n",
    "#         x = x.view(-1, 4*4*50)\n",
    "#         x = self.activations(self.fc1(x))\n",
    "#         x = self.fc2(x)\n",
    "#         return F.log_softmax(x, dim=1)\n",
    "    \n",
    "# def train(args, model, device, train_loader, optimizer, epoch):\n",
    "#     model.train()\n",
    "#     for batch_idx, (data, target) in enumerate(train_loader):\n",
    "#         data, target = data.to(device), target.to(device)\n",
    "#         optimizer.zero_grad()\n",
    "#         output = model(data)\n",
    "#         loss = F.nll_loss(output, target)\n",
    "#         loss.backward()\n",
    "#         optimizer.step()\n",
    "#         if batch_idx % args.log_interval == 0:\n",
    "#             print('Train Epoch: {} [{}/{} ({:.0f}%)]\\tLoss: {:.6f}'.format(\n",
    "#                 epoch, batch_idx * len(data), len(train_loader.dataset),\n",
    "#                 100. * batch_idx / len(train_loader), loss.item()))\n",
    "\n",
    "# def test(args, model, device, test_loader):\n",
    "#     model.eval()\n",
    "#     test_loss = 0\n",
    "#     correct = 0\n",
    "#     with torch.no_grad():\n",
    "#         for data, target in test_loader:\n",
    "\n",
    "#             data, target = data.to(device), target.to(device)\n",
    "#             output = model(data)\n",
    "#             test_loss += F.nll_loss(output, target, reduction='sum').item() # sum up batch loss\n",
    "#             pred = output.argmax(dim=1, keepdim=True) # get the index of the max log-probability\n",
    "#             correct += pred.eq(target.view_as(pred)).sum().item()\n",
    "\n",
    "#     test_loss /= len(test_loader.dataset)\n",
    "\n",
    "#     print('\\nTest set: Average loss: {:.4f}, Accuracy: {}/{} ({:.0f}%)\\n'.format(\n",
    "#         test_loss, correct, len(test_loader.dataset),\n",
    "#         100. * correct / len(test_loader.dataset)))\n",
    "    \n",
    "#     return correct / len(test_loader.dataset)\n",
    "\n",
    "# import skopt\n",
    "# from skopt import gp_minimize, forest_minimize\n",
    "# from skopt.space import Real, Categorical, Integer\n",
    "# from skopt.utils import use_named_args\n",
    "\n",
    "# from skopt.plots import *\n",
    "\n",
    "# dim_num_batch_size_to_base = Integer(low=3, \n",
    "#                                      high=6, \n",
    "#                                      name='log_batch_size')\n",
    "# dim_learning_rate = Real(low=1e-6, high=1e0,\n",
    "#                          prior='log-uniform',\n",
    "#                          name='lr')\n",
    "# dim_activation = Categorical(categories=['relu', 'sigmoid'], \n",
    "#                              name='activation')\n",
    "# dimensions = [dim_num_batch_size_to_base,\n",
    "#               dim_learning_rate,\n",
    "#               dim_activation]\n",
    "\n",
    "# default_parameters = [4, 1e-1, 'relu']\n",
    "\n",
    "# @use_named_args(dimensions=dimensions)\n",
    "# def main(log_batch_size=6, lr=1e-2, activation='relu'):\n",
    "#     # Training settings\n",
    "#     class Args:\n",
    "#         seed = 0\n",
    "#         test_batch_size = 1000\n",
    "#         epochs = 10\n",
    "#         momentum = 0.5\n",
    "#         log_interval = 15000\n",
    "#         def __init__(self,\n",
    "#                      log_batch_size, \n",
    "#                      lr, \n",
    "#                     activation):\n",
    "#             self.activation = activation\n",
    "#             self.batch_size = int(2**log_batch_size)\n",
    "#             self.lr = lr\n",
    "#         def __repr__(self):\n",
    "#             return str(self.__dict__)\n",
    "    \n",
    "#     args = Args(log_batch_size,lr,activation)\n",
    "    \n",
    "#     torch.manual_seed(args.seed)\n",
    "\n",
    "#     kwargs = {}\n",
    "#     train_loader = torch.utils.data.DataLoader(\n",
    "#         datasets.MNIST('./data', train=True, download=True,\n",
    "#                        transform=transforms.Compose([\n",
    "#                            transforms.ToTensor(),\n",
    "#                            transforms.Normalize((0.1307,), (0.3081,))\n",
    "#                        ])),\n",
    "#         batch_size=args.batch_size, shuffle=True, **kwargs)\n",
    "#     test_loader = torch.utils.data.DataLoader(\n",
    "#         datasets.MNIST('./data', train=False, transform=transforms.Compose([\n",
    "#                            transforms.ToTensor(),\n",
    "#                            transforms.Normalize((0.1307,), (0.3081,))\n",
    "#                        ])),\n",
    "#         batch_size=args.test_batch_size, shuffle=True, **kwargs)\n",
    "\n",
    "#     device = 'cuda'\n",
    "#     model = Net(args.activation).to(device)\n",
    "    \n",
    "#     optimizer = optim.SGD(model.parameters(), lr=args.lr, momentum=args.momentum)\n",
    "    \n",
    "#     print ('Args for this run:')\n",
    "#     print (args)\n",
    "#     for epoch in range(1, args.epochs + 1):\n",
    "#         train(args, model, device, train_loader, optimizer, epoch)\n",
    "#         finalacc = test(args, model, device, test_loader)\n",
    "    \n",
    "#     return -finalacc # we will be miniming using scikit-optim\n",
    "\n",
    "# # search_result = gp_minimize(func=main,\n",
    "# #                             dimensions=dimensions,\n",
    "# #                             acq_func='EI', # Expected Improvement.\n",
    "# #                             n_calls=11,\n",
    "# #                             x0=default_parameters)\n",
    "# raise ValueError\n",
    "\n",
    "# import pickle\n",
    "\n",
    "# with open('dump2.pkl', 'rb') as f:\n",
    "#     search_result = pickle.load(f)\n",
    "\n",
    "# fig, ax = plt.subplots(figsize=(16, 6))\n",
    "# ax = plot_convergence(search_result, ax=ax)\n",
    "# format_axes(ax)\n",
    "# plt.savefig(\"MAB_gifs/conv.svg\", ax=ax)"
   ]
  },
  {
   "cell_type": "markdown",
   "metadata": {},
   "source": []
  },
  {
   "cell_type": "markdown",
   "metadata": {},
   "source": [
    "![](MAB_gifs/conv.svg)\n",
    "\n",
    "Looking at the above example, we can see that incorporating Bayesian Optimization isn't a big problem and saves a lot of time we can see that the network was able to get to an accuracy of nearly one in around 3 iterations. That's impressive! Above example has been inspired by Hvass Laboratories' Tutorial on `scikit-optim`. -- footnotes https://github.com/Hvass-Labs/TensorFlow-Tutorials/blob/master/19_Hyper-Parameters.ipynb"
   ]
  },
  {
   "cell_type": "markdown",
   "metadata": {},
   "source": [
    "#### Example 3\n",
    "\n",
    "Using Bayesian Optimization in Random Forests."
   ]
  },
  {
   "cell_type": "code",
   "execution_count": 74,
   "metadata": {},
   "outputs": [],
   "source": [
    "from sklearn.ensemble import RandomForestClassifier"
   ]
  },
  {
   "cell_type": "code",
   "execution_count": 75,
   "metadata": {},
   "outputs": [],
   "source": [
    "def f(Listofpoints, seed=0):\n",
    "    '''Given a grid of hyperparameters we fit the SVM and return\n",
    "    the negative of validation error (we are aiming to minimize error)'''\n",
    "    Listofpoints = np.array(Listofpoints)\n",
    "    Gammas, Cs = Listofpoints[:, 0], Listofpoints[:, 1]\n",
    "    Gammas = np.array(Gammas)\n",
    "    Cs = np.array(Cs)\n",
    "    shpe = Gammas.shape\n",
    "    assert (Gammas.shape == Cs.shape)\n",
    "    accs = []\n",
    "    for gamma, C in zip(Gammas.flatten(), Cs.flatten()):\n",
    "        clf = RandomForestClassifier(n_estimators=gamma, max_depth=C, random_state=seed)\n",
    "        clf.fit(X_train, y_train)\n",
    "        pred_y = clf.predict(X_test)\n",
    "        mask = (pred_y == y_test)\n",
    "        acc = mask.sum()/mask.shape[0]\n",
    "        accs.append(acc)\n",
    "    return np.array(accs).reshape(shpe)"
   ]
  },
  {
   "cell_type": "code",
   "execution_count": 76,
   "metadata": {
    "scrolled": true
   },
   "outputs": [
    {
     "name": "stdout",
     "output_type": "stream",
     "text": [
      "x.shape: (756, 2)\n",
      "GT.shape: (28, 27)\n"
     ]
    }
   ],
   "source": [
    "x0 = np.arange(3, 30) # # of trees\n",
    "x1 = np.arange(2, 30) # max_depth\n",
    "\n",
    "x = np.array(list(itertools.product(x0, x1)))\n",
    "print ('x.shape:', x.shape)\n",
    "\n",
    "X0, X1 = np.meshgrid(x0, x1)\n",
    "xx = np.vstack([X0.reshape(X0.size), X1.reshape(X1.size)]).T\n",
    "\n",
    "GT = f(x)\n",
    "GT = GT.reshape(X0.shape)\n",
    "print('GT.shape:', GT.shape)"
   ]
  },
  {
   "cell_type": "code",
   "execution_count": 77,
   "metadata": {},
   "outputs": [],
   "source": [
    "nnsvm(plt.rcParams, 4)"
   ]
  },
  {
   "cell_type": "code",
   "execution_count": 78,
   "metadata": {},
   "outputs": [],
   "source": [
    "# def plot_acquisition3d(\n",
    "#         train_X, train_y,\n",
    "#         acq_class, mean_fn, acq_params={},\n",
    "#         z0lim = (0.5, 1),\n",
    "#         it = 10, seed = 0, levels=30, drawedges=True,\n",
    "#         set_z1lim=True,\n",
    "#     ):\n",
    "#     \"\"\"acq_params would contain the parameters for our acq_fn\"\"\"\n",
    "#     np.random.seed(seed)\n",
    "#     # for storing the max till it iters\n",
    "#     max_till_now = []\n",
    "#     max_ix = np.argmax(GT.flatten())\n",
    "#     max_x = X0.flatten()[max_ix], X1.flatten()[max_ix]\n",
    "    \n",
    "#     # Stopping criteria is 10 iterations\n",
    "#     for i in range(it):\n",
    "#         fig, ax = plt.subplots(ncols=2, figsize=(16, 6))\n",
    "#         for a in ax:\n",
    "#             a.set_aspect('equal')\n",
    "        \n",
    "#         ax[0].set_ylim(min(x[:, 1]), max(x[:, 1])) # C\n",
    "#         ax[0].set_xlim(min(x[:, 0]), max(x[:, 0])) # gamma\n",
    "#         ax[1].set_ylim(min(x[:, 1]), max(x[:, 1]))\n",
    "#         ax[1].set_xlim(min(x[:, 0]), max(x[:, 0]))\n",
    "        \n",
    "#         # fitting\n",
    "#         gp = gp_creator(train_X, train_y, val = mean_fn)\n",
    "        \n",
    "#         # plot ground truth\n",
    "#         boun0 = np.linspace(*z0lim, levels)\n",
    "#         h = ax[0].contourf(X0, X1, GT, cmap='viridis', \n",
    "#                            levels=levels, \n",
    "#                            vmin=z0lim[0], \n",
    "#                            vmax=z0lim[1])\n",
    "#         m = plt.cm.ScalarMappable(cmap='viridis')\n",
    "#         m.set_array(GT)\n",
    "#         m.set_clim(*z0lim)\n",
    "#         plt.colorbar(m, drawedges=drawedges, boundaries=boun0, ax=ax[0])\n",
    "#         # plot current training set\n",
    "#         ax[0].scatter(train_X[:, 0], train_X[:, 1], color='grey', s=30,\n",
    "#                       zorder=10, label='Training points')\n",
    "#         # plot the global maxima\n",
    "#         ax[0].scatter(*max_x, marker=\"*\", color='yellow', s=300, zorder=20, label=\"Gobal Maxima\")\n",
    "        \n",
    "#         # plot Acquisition\n",
    "#         acq_obj = acq_class()\n",
    "#         acquisition = acq_obj(gp, xx, t=i+1, **acq_params, mu=max(train_y))\n",
    "#         if i == 0:\n",
    "#             z1lim = 0, max(acquisition)\n",
    "#             boun2 = np.linspace(*z1lim, levels)\n",
    "        \n",
    "#         h2 = ax[1].contourf(X0, X1, \n",
    "#                             acquisition.reshape(X0.shape), \n",
    "#                             cmap='viridis', \n",
    "#                             levels=levels, \n",
    "#                             vmin=z1lim[0],\n",
    "#                             vmax=z1lim[1],\n",
    "#                             extend=\"both\")\n",
    "        \n",
    "#         plt.colorbar(h2, boundaries=boun2, ax=ax[1])      \n",
    "\n",
    "#         ax[1].set_xlabel(\"# of Trees\")\n",
    "#         ax[1].set_ylabel(\"Max Depth\")\n",
    "        \n",
    "#         # Choose the next point with highest acq\n",
    "#         max_mu = max(train_y.flatten())\n",
    "#         max_till_now.append(max_mu)\n",
    "#         next_ix = rargmax(acquisition.flatten())\n",
    "#         n_x = X0.flatten()[next_ix], X1.flatten()[next_ix]\n",
    "        \n",
    "\n",
    "#         # Add new point with highest uncertainty to the pool set\n",
    "#         train_X = np.vstack([train_X, [*n_x]])\n",
    "#         train_y = f(train_X)\n",
    "\n",
    "#         # Add new point with highest uncertainty to the pool set\n",
    "#         ax[1].scatter(*n_x, marker='+',s=200,\n",
    "#                       c='blue', zorder=10,\n",
    "#                       label='Maxima')\n",
    "#         ax[0].scatter(*n_x, color='red',\n",
    "#                       s=200, zorder=1, label='Query Point')\n",
    "        \n",
    "#         # target lines\n",
    "#         ax[0].axvline(n_x[0], color='black', lw=1, zorder=1)\n",
    "#         ax[0].axhline(n_x[1], color='black', lw=1, zorder=1)\n",
    "#         ax[1].axvline(n_x[0], color='black', lw=1, zorder=1)\n",
    "#         ax[1].axhline(n_x[1], color='black', lw=1, zorder=1)\n",
    "        \n",
    "#         # titles\n",
    "#         if str(acq_obj) == \"PI\":\n",
    "#             ax[1].set_title(r'$\\alpha_{PI}$' + f\"\\nIteration: {i} \\n\" + \\\n",
    "#                              r\"$\\epsilon$: \" + str(acq_params['eps']))\n",
    "#         elif str(acq_obj) == \"EI\":\n",
    "#             ax[1].set_title(r'$\\alpha_{EI}$' + f\"\\nIteration: {i} \\n\" + \\\n",
    "#                              r\"$\\epsilon$: \" + str(acq_params['eps']))\n",
    "#         elif str(acq_obj) == \"GP_UCB\":\n",
    "#             ax[1].set_title(r'$\\alpha_{GP-UCB}$' + f\"\\nIteration: {i} \\n\" + \\\n",
    "#                             r\"$v$: \" + str(acq_params['v']) + '\\n' \\\n",
    "#                             r\"$\\delta$: \" + str(acq_params['delta']))\n",
    "#         elif str(acq_obj) == \"Rand\":\n",
    "#             ax[1].set_title(r'$\\alpha_{Random}$' + f\"\\nIteration: {i}\")\n",
    "#         else:\n",
    "#             raise ValueError\n",
    "        \n",
    "#         ax[0].set_xlabel(\"# of Trees\")\n",
    "#         ax[0].set_ylabel(\"Max Depth\")\n",
    "#         ax[0].set_title(\"Accuracy\")\n",
    "        \n",
    "#         # https://stackoverflow.com/questions/4700614/how-to-put-the-legend-out-of-the-plot\n",
    "#         for a in ax:\n",
    "#             box = a.get_position()\n",
    "#             a.set_position([box.x0, box.y0 + box.height * 0.02,\n",
    "#                              box.width, box.height * 0.9])\n",
    "\n",
    "#             # Put a legend below current axis\n",
    "#             a.legend(loc='upper center', bbox_to_anchor=(0.5, -0.15),\n",
    "#                       fancybox=True, shadow=True, ncol=5)\n",
    "\n",
    "#         acq_params_str = '-'.join(list(map(str, acq_params.values())))\n",
    "#         dirName = './MAB_pngs/RF'+str(acq_obj)+'3d/'+acq_params_str\n",
    "#         os.makedirs(dirName, exist_ok=True)\n",
    "#         if seed == 0:\n",
    "#             plt.savefig(f\"{dirName}/{i}.png\", bbox_inches=\"tight\", dpi=180)\n",
    "#         plt.close()\n",
    "#     return dirName, max_till_now, train_X"
   ]
  },
  {
   "cell_type": "markdown",
   "metadata": {},
   "source": [
    "Let us now show the some plots showing Bayesian Optimization for learning nice hyperparameters for our Random Forest model."
   ]
  },
  {
   "cell_type": "code",
   "execution_count": 79,
   "metadata": {
    "scrolled": false
   },
   "outputs": [],
   "source": [
    "eps = 0.05\n",
    "\n",
    "acq_params = {'eps':eps}\n",
    "dirName, mtn_pi = plot_acquisition3d(\n",
    "    PI, mean_fn = 0.60, \n",
    "    acq_params=acq_params,\n",
    "    z0lim=uplow,\n",
    "    it=10\n",
    ")\n",
    "# gify!\n",
    "# !convert -delay {delay} -loop 0 {dirName}/*.png {gifDir}/RFpi3d-0.05-mat.gif"
   ]
  },
  {
   "cell_type": "markdown",
   "metadata": {},
   "source": [
    "![](MAB_gifs/RFpi3d-0.05-mat.gif)\n",
    "\n",
    "Above we see a gif showing the work of teh _Probability of Improvement_ acquisition function in finding the best hyperparameters."
   ]
  },
  {
   "cell_type": "code",
   "execution_count": 80,
   "metadata": {},
   "outputs": [],
   "source": [
    "eps = 0.01\n",
    "acq_params = {'eps':eps}\n",
    "dirName, mtn_ei = plot_acquisition3d(\n",
    "    EI, mean_fn = 0.60, \n",
    "    acq_params=acq_params,\n",
    "    z0lim=uplow,\n",
    "    it=10\n",
    ")\n",
    "\n",
    "# gify!\n",
    "# !convert -delay {delay} -loop 0 {dirName}/*.png {gifDir}/RFei3d-0.0001-mat.gif"
   ]
  },
  {
   "cell_type": "markdown",
   "metadata": {},
   "source": [
    "![](MAB_gifs/RFei3d-0.0001-mat.gif)\n",
    "\n",
    "Above we see a gif showing the work of teh _Expected Improvement_ acquisition function in finding the best hyperparameters."
   ]
  },
  {
   "cell_type": "code",
   "execution_count": 81,
   "metadata": {
    "scrolled": true
   },
   "outputs": [],
   "source": [
    "v = 1\n",
    "delta = 2\n",
    "acq_params = {\n",
    "    'v':v,\n",
    "    'delta':delta\n",
    "}\n",
    "dirName, mtn_gp_ucb = plot_acquisition3d(\n",
    "    GP_UCB, mean_fn = 0.60, \n",
    "    acq_params=acq_params,\n",
    "    z0lim=uplow,\n",
    "    it=10\n",
    ")\n",
    "\n",
    "# gify!\n",
    "# !convert -delay {delay} -loop 0 {dirName}/*.png {gifDir}/RFgp3d-1-2-mat.gif"
   ]
  },
  {
   "cell_type": "markdown",
   "metadata": {},
   "source": [
    "![](MAB_gifs/RFgp3d-1-2-mat.gif)\n",
    "\n",
    "Above we see a gif showing the work of the _Guassian Processes Upper Confidence Bound_ acquisition function in finding the best hyperparameters. This by far seems to perform the best with getting quite close to the global optimum value of hyperparameters (found using brute force)."
   ]
  },
  {
   "cell_type": "code",
   "execution_count": 82,
   "metadata": {
    "scrolled": false
   },
   "outputs": [],
   "source": [
    "stats = RunningStat(len(mtn_gp_ucb))\n",
    "for seed in range(10):\n",
    "    dirName, temp = plot_acquisition3d(\n",
    "        Rand, mean_fn = 0.60, \n",
    "        acq_params=acq_params,\n",
    "        z0lim=uplow,\n",
    "        it=10,\n",
    "        seed=seed\n",
    "    )\n",
    "    stats.push(temp)\n",
    "\n",
    "mtn_rand = stats.mean\n",
    "rand_sig = stats.std\n",
    "\n",
    "\n",
    "# gify!\n",
    "# !convert -delay {delay} -loop 0 {dirName}/*.png {gifDir}/RFrand3d.gif"
   ]
  },
  {
   "cell_type": "markdown",
   "metadata": {},
   "source": [
    "![](MAB_gifs/RFrand3d.gif)\n",
    "\n",
    "Now our favourite random acquisition function. :)"
   ]
  },
  {
   "cell_type": "code",
   "execution_count": 83,
   "metadata": {},
   "outputs": [],
   "source": [
    "nnsvm(plt.rcParams, 4)"
   ]
  },
  {
   "cell_type": "code",
   "execution_count": 84,
   "metadata": {},
   "outputs": [
    {
     "data": {
      "image/png": "[encoded data removed]",
      "text/plain": [
       "<Figure size 1008x576 with 1 Axes>"
      ]
     },
     "metadata": {
      "needs_background": "light"
     },
     "output_type": "display_data"
    }
   ],
   "source": [
    "max_f = np.max(GT.flatten())\n",
    "globalopt = [max_f] * len(mtn_rand)\n",
    "\n",
    "mtns = [mtn_rand, globalopt, mtn_pi, mtn_ei, mtn_gp_ucb]\n",
    "names = ['Random', 'GlobalOpt', 'Probability of Improvement', 'Expected Improvement', 'GP-UCB']\n",
    "markers = ['*-', 'o:', 'v--', '>-.', '<:']\n",
    "\n",
    "xx = range(len(mtns[0]))\n",
    "plt.figure(figsize=(14, 8))\n",
    "for n, m, mm in zip(names, mtns, markers):\n",
    "    plt.plot(xx, m, mm, label=n, alpha=0.7, lw=2.7)\n",
    "    \n",
    "plt.fill_between(\n",
    "    range(len(mtns[0])), mtn_rand + rand_sig,\n",
    "    mtn_rand - rand_sig, \n",
    "    color='c', alpha=0.2\n",
    ")\n",
    "\n",
    "plt.legend()\n",
    "plt.xlabel('# of Evaluations')\n",
    "plt.ylabel('Max Accuracy Reached')\n",
    "plt.title('Comparison of different Acquisition Functions')\n",
    "format_axes(plt.gca())\n",
    "plt.savefig(\"MAB_gifs/RFcomp3d.svg\", bbox_inches=\"tight\")\n",
    "plt.show()"
   ]
  },
  {
   "cell_type": "markdown",
   "metadata": {},
   "source": [
    "We see GP-UCB performed the best in this case. Random that was performing really nice in the last single dimensional example seems to perform much badly in this case. This can be attributed to the increase in the number of dimensions, it's much difficult to get to the optimal value by using random search."
   ]
  },
  {
   "cell_type": "markdown",
   "metadata": {},
   "source": [
    "## Conclusions\n",
    "We see that for the case of multi-arm bandit we have a bit different problem as compared to the active learning problem and therefore we have the different objective functions that we try to maximize for the query points.\n",
    "\n",
    "## Embrace Bayesian Optimization\n",
    "After reading through the blog post, you might have been sold on the idea about the time you can save by asking Bayesian Optimizer to find the best hyperparameters for your amazing model. There are a plethora of Bayesian Optimization libraries available. I have linked a few known ones. Do check them out.\n",
    "\n",
    "- [scikit-optimize](https://scikit-optimize.github.io/) -- footnotes really nice tutorial showcasing hyperparameter optimization on a neural network. [link](https://github.com/Hvass-Labs/TensorFlow-Tutorials/blob/master/19_Hyper-Parameters.ipynb)\n",
    "- [sigopt](https://app.sigopt.com/docs/overview/python)\n",
    "- [hyperopt](http://hyperopt.github.io/hyperopt/)\n",
    "- [spearmint](https://github.com/HIPS/Spearmint)\n",
    "- [MOE](https://github.com/Yelp/MOE)\n",
    "\n",
    "### Caution\n",
    "We need to take care while using Bayesian Optimization. Bayesian Optimization based on Gaussian Processes Regression is highly sensitive to the kernel used. For example, if you are using [Matern](https://scikit-learn.org/stable/modules/generated/sklearn.gaussian_process.kernels.Matern.html) kernel, we are implicitly assuming that the function we are trying to optimize is first order differentiable.\n",
    "\n",
    "A nice list of tips and tricks one should have a look at if you aim to use Bayesian Optimization in your workflow is from this amazing post by Thomas on [Bayesian Optimization with sklearn](https://thuijskens.github.io/2016/12/29/bayesian-optimisation/).\n",
    "\n"
   ]
  },
  {
   "cell_type": "code",
   "execution_count": null,
   "metadata": {},
   "outputs": [],
   "source": []
  }
 ],
 "metadata": {
  "kernelspec": {
   "display_name": "Python 3",
   "language": "python",
   "name": "python3"
  },
  "language_info": {
   "codemirror_mode": {
    "name": "ipython",
    "version": 3
   },
   "file_extension": ".py",
   "mimetype": "text/x-python",
   "name": "python",
   "nbconvert_exporter": "python",
   "pygments_lexer": "ipython3",
   "version": "3.6.9"
  }
 },
 "nbformat": 4,
 "nbformat_minor": 2
}
